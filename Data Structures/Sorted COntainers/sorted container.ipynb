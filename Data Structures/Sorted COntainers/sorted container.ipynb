{
 "cells": [
  {
   "cell_type": "code",
   "execution_count": 4,
   "id": "9649252c-2580-4305-b15d-5a4e95c5ac39",
   "metadata": {},
   "outputs": [
    {
     "name": "stdout",
     "output_type": "stream",
     "text": [
      "Collecting sortedcontainers\n",
      "  Downloading sortedcontainers-2.4.0-py2.py3-none-any.whl.metadata (10 kB)\n",
      "Downloading sortedcontainers-2.4.0-py2.py3-none-any.whl (29 kB)\n",
      "Installing collected packages: sortedcontainers\n",
      "Successfully installed sortedcontainers-2.4.0\n",
      "\n",
      "\u001b[1m[\u001b[0m\u001b[34;49mnotice\u001b[0m\u001b[1;39;49m]\u001b[0m\u001b[39;49m A new release of pip is available: \u001b[0m\u001b[31;49m24.0\u001b[0m\u001b[39;49m -> \u001b[0m\u001b[32;49m24.2\u001b[0m\n",
      "\u001b[1m[\u001b[0m\u001b[34;49mnotice\u001b[0m\u001b[1;39;49m]\u001b[0m\u001b[39;49m To update, run: \u001b[0m\u001b[32;49m/opt/homebrew/Cellar/jupyterlab/4.2.3/libexec/bin/python -m pip install --upgrade pip\u001b[0m\n",
      "Note: you may need to restart the kernel to use updated packages.\n"
     ]
    }
   ],
   "source": [
    "pip install sortedcontainers"
   ]
  },
  {
   "cell_type": "code",
   "execution_count": 7,
   "id": "9df8ed6a-8ee9-4d97-8ad0-cd73eb94af1d",
   "metadata": {},
   "outputs": [],
   "source": [
    "from sortedcontainers import SortedList, SortedSet, SortedDict "
   ]
  },
  {
   "cell_type": "code",
   "execution_count": 8,
   "id": "0ac698eb-fc2c-4027-bb64-7e6f49b18070",
   "metadata": {},
   "outputs": [],
   "source": [
    "ss =SortedSet([2,6,3,33,7])"
   ]
  },
  {
   "cell_type": "code",
   "execution_count": 9,
   "id": "e765999d-7d9f-4294-bdbd-0ad6d8b6478f",
   "metadata": {},
   "outputs": [
    {
     "data": {
      "text/plain": [
       "SortedSet([2, 3, 6, 7, 33])"
      ]
     },
     "execution_count": 9,
     "metadata": {},
     "output_type": "execute_result"
    }
   ],
   "source": [
    "ss"
   ]
  },
  {
   "cell_type": "code",
   "execution_count": 10,
   "id": "75f30000-7190-476a-b411-06d90f14555c",
   "metadata": {},
   "outputs": [],
   "source": [
    "ss.add(5)"
   ]
  },
  {
   "cell_type": "code",
   "execution_count": 11,
   "id": "e3587a74-616b-49d0-8866-e2daa57ee0ee",
   "metadata": {},
   "outputs": [
    {
     "data": {
      "text/plain": [
       "SortedSet([2, 3, 5, 6, 7, 33])"
      ]
     },
     "execution_count": 11,
     "metadata": {},
     "output_type": "execute_result"
    }
   ],
   "source": [
    "ss"
   ]
  },
  {
   "cell_type": "code",
   "execution_count": 12,
   "id": "56831984-6626-4b42-87ba-05103825d54d",
   "metadata": {},
   "outputs": [],
   "source": [
    "ss.remove(6)"
   ]
  },
  {
   "cell_type": "code",
   "execution_count": 13,
   "id": "5701b84a-ffc3-4d15-bc9d-d3f7771516e0",
   "metadata": {},
   "outputs": [
    {
     "data": {
      "text/plain": [
       "SortedSet([2, 3, 5, 7, 33])"
      ]
     },
     "execution_count": 13,
     "metadata": {},
     "output_type": "execute_result"
    }
   ],
   "source": [
    "ss"
   ]
  },
  {
   "cell_type": "code",
   "execution_count": 15,
   "id": "c6d1c4ba-bed3-40df-9d16-5a52784e174e",
   "metadata": {},
   "outputs": [],
   "source": [
    "sl =SortedList([6,3,8,1,9,1])"
   ]
  },
  {
   "cell_type": "code",
   "execution_count": 16,
   "id": "90c0ae31-1baf-418e-8182-9c935409827a",
   "metadata": {},
   "outputs": [
    {
     "data": {
      "text/plain": [
       "SortedList([1, 1, 3, 6, 8, 9])"
      ]
     },
     "execution_count": 16,
     "metadata": {},
     "output_type": "execute_result"
    }
   ],
   "source": [
    "sl"
   ]
  },
  {
   "cell_type": "code",
   "execution_count": 18,
   "id": "5e78677b-03e1-44c2-b15d-90e1a206b8e0",
   "metadata": {},
   "outputs": [],
   "source": [
    "sl.add(66)"
   ]
  },
  {
   "cell_type": "code",
   "execution_count": 19,
   "id": "e270e25d-d40c-4fb5-a58a-e0507561656b",
   "metadata": {},
   "outputs": [
    {
     "data": {
      "text/plain": [
       "SortedList([1, 1, 3, 6, 8, 9, 66])"
      ]
     },
     "execution_count": 19,
     "metadata": {},
     "output_type": "execute_result"
    }
   ],
   "source": [
    "sl"
   ]
  },
  {
   "cell_type": "code",
   "execution_count": 20,
   "id": "42e8f00c-49a2-4d46-b408-d604d1668939",
   "metadata": {},
   "outputs": [
    {
     "data": {
      "text/plain": [
       "66"
      ]
     },
     "execution_count": 20,
     "metadata": {},
     "output_type": "execute_result"
    }
   ],
   "source": [
    "sl.pop()"
   ]
  },
  {
   "cell_type": "code",
   "execution_count": 21,
   "id": "58842709-6508-4125-9a82-0d8f6ed1a686",
   "metadata": {},
   "outputs": [
    {
     "data": {
      "text/plain": [
       "SortedList([1, 1, 3, 6, 8, 9])"
      ]
     },
     "execution_count": 21,
     "metadata": {},
     "output_type": "execute_result"
    }
   ],
   "source": [
    "sl"
   ]
  },
  {
   "cell_type": "code",
   "execution_count": 22,
   "id": "0fff134b-fc52-4700-be9e-92b206b3300d",
   "metadata": {},
   "outputs": [
    {
     "data": {
      "text/plain": [
       "1"
      ]
     },
     "execution_count": 22,
     "metadata": {},
     "output_type": "execute_result"
    }
   ],
   "source": [
    "sl.pop(0)"
   ]
  },
  {
   "cell_type": "code",
   "execution_count": 23,
   "id": "a4f127ff-669c-4720-9cbd-528cd4c27ffa",
   "metadata": {},
   "outputs": [],
   "source": [
    "sl.add(66)"
   ]
  },
  {
   "cell_type": "code",
   "execution_count": 24,
   "id": "53e73cdf-42e7-4f15-8eea-616319b577ec",
   "metadata": {},
   "outputs": [
    {
     "data": {
      "text/plain": [
       "SortedList([1, 3, 6, 8, 9, 66])"
      ]
     },
     "execution_count": 24,
     "metadata": {},
     "output_type": "execute_result"
    }
   ],
   "source": [
    "sl"
   ]
  },
  {
   "cell_type": "code",
   "execution_count": 25,
   "id": "70f787ae-0c97-4b20-83bd-95664c486e99",
   "metadata": {},
   "outputs": [],
   "source": [
    "sl.remove(66)"
   ]
  },
  {
   "cell_type": "code",
   "execution_count": 26,
   "id": "48a66584-9114-483e-80a0-e035b780b651",
   "metadata": {},
   "outputs": [
    {
     "data": {
      "text/plain": [
       "SortedList([1, 3, 6, 8, 9])"
      ]
     },
     "execution_count": 26,
     "metadata": {},
     "output_type": "execute_result"
    }
   ],
   "source": [
    "sl"
   ]
  },
  {
   "cell_type": "code",
   "execution_count": 27,
   "id": "0ccfa60a-3aa5-40be-927a-6ab5c5a18f12",
   "metadata": {},
   "outputs": [],
   "source": [
    "dic = {\"sde\":2, 'abs':3,\"dede\":4}"
   ]
  },
  {
   "cell_type": "code",
   "execution_count": 28,
   "id": "a2ad5439-7d73-43fe-99eb-608594dd6234",
   "metadata": {},
   "outputs": [],
   "source": [
    "sd= SortedDict(dic)"
   ]
  },
  {
   "cell_type": "code",
   "execution_count": 29,
   "id": "29808a3c-52ca-46c0-b655-167f78dfee05",
   "metadata": {},
   "outputs": [
    {
     "data": {
      "text/plain": [
       "SortedDict({'abs': 3, 'dede': 4, 'sde': 2})"
      ]
     },
     "execution_count": 29,
     "metadata": {},
     "output_type": "execute_result"
    }
   ],
   "source": [
    "sd"
   ]
  },
  {
   "cell_type": "code",
   "execution_count": 31,
   "id": "6e66c7bd-2d84-40f2-8d69-73b1e428c19b",
   "metadata": {},
   "outputs": [],
   "source": [
    "sd['aab']=1"
   ]
  },
  {
   "cell_type": "code",
   "execution_count": 32,
   "id": "f7b4b9de-647e-4ed2-b66e-f99087b3e653",
   "metadata": {},
   "outputs": [
    {
     "data": {
      "text/plain": [
       "SortedDict({'aab': 1, 'abs': 3, 'dede': 4, 'sde': 2})"
      ]
     },
     "execution_count": 32,
     "metadata": {},
     "output_type": "execute_result"
    }
   ],
   "source": [
    "sd"
   ]
  },
  {
   "cell_type": "code",
   "execution_count": 33,
   "id": "3c83221a-c314-4d60-aaea-74285adbf3ea",
   "metadata": {},
   "outputs": [
    {
     "data": {
      "text/plain": [
       "1"
      ]
     },
     "execution_count": 33,
     "metadata": {},
     "output_type": "execute_result"
    }
   ],
   "source": [
    "sd.pop('aab')"
   ]
  },
  {
   "cell_type": "code",
   "execution_count": 34,
   "id": "be0dc29b-0e34-45eb-a68c-9188368cc14b",
   "metadata": {},
   "outputs": [
    {
     "data": {
      "text/plain": [
       "SortedDict({'abs': 3, 'dede': 4, 'sde': 2})"
      ]
     },
     "execution_count": 34,
     "metadata": {},
     "output_type": "execute_result"
    }
   ],
   "source": [
    "sd"
   ]
  },
  {
   "cell_type": "code",
   "execution_count": null,
   "id": "90bc0fb7-6e73-4a72-a8c7-39cc71cc0d6b",
   "metadata": {},
   "outputs": [],
   "source": []
  }
 ],
 "metadata": {
  "kernelspec": {
   "display_name": "Python 3 (ipykernel)",
   "language": "python",
   "name": "python3"
  },
  "language_info": {
   "codemirror_mode": {
    "name": "ipython",
    "version": 3
   },
   "file_extension": ".py",
   "mimetype": "text/x-python",
   "name": "python",
   "nbconvert_exporter": "python",
   "pygments_lexer": "ipython3",
   "version": "3.12.4"
  }
 },
 "nbformat": 4,
 "nbformat_minor": 5
}
