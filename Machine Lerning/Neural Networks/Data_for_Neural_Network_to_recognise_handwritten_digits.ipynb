{
  "nbformat": 4,
  "nbformat_minor": 0,
  "metadata": {
    "colab": {
      "provenance": []
    },
    "kernelspec": {
      "name": "python3",
      "display_name": "Python 3"
    },
    "language_info": {
      "name": "python"
    }
  },
  "cells": [
    {
      "cell_type": "code",
      "execution_count": null,
      "metadata": {
        "colab": {
          "base_uri": "https://localhost:8080/"
        },
        "id": "S0BCqBTJkBdJ",
        "outputId": "6429641c-497a-48c4-d4ba-a7af29193eac"
      },
      "outputs": [
        {
          "output_type": "stream",
          "name": "stdout",
          "text": [
            "tensor([10.,  3.])\n"
          ]
        }
      ],
      "source": [
        "import torch\n",
        "x= torch.Tensor([5,3])#tensor is like multidimentional array on GPU\n",
        "y=torch.Tensor([2,1])\n",
        "\n",
        "print(x*y)"
      ]
    },
    {
      "cell_type": "code",
      "source": [
        "x = torch.zeros([2,5])"
      ],
      "metadata": {
        "id": "Z-0PAkfinBCw"
      },
      "execution_count": null,
      "outputs": []
    },
    {
      "cell_type": "code",
      "source": [
        "print(x)"
      ],
      "metadata": {
        "colab": {
          "base_uri": "https://localhost:8080/"
        },
        "id": "H8OufxutnKIs",
        "outputId": "a57c0a3b-9039-43ee-b4fd-a518f648afb3"
      },
      "execution_count": null,
      "outputs": [
        {
          "output_type": "stream",
          "name": "stdout",
          "text": [
            "tensor([[0., 0., 0., 0., 0.],\n",
            "        [0., 0., 0., 0., 0.]])\n"
          ]
        }
      ]
    },
    {
      "cell_type": "code",
      "source": [
        "x.shape"
      ],
      "metadata": {
        "colab": {
          "base_uri": "https://localhost:8080/"
        },
        "id": "Iw7UkYRWnLy_",
        "outputId": "95bfe995-7f16-480e-b134-a28aa2ac95cf"
      },
      "execution_count": null,
      "outputs": [
        {
          "output_type": "execute_result",
          "data": {
            "text/plain": [
              "torch.Size([2, 5])"
            ]
          },
          "metadata": {},
          "execution_count": 5
        }
      ]
    },
    {
      "cell_type": "code",
      "source": [
        "y=torch.rand([2,5])"
      ],
      "metadata": {
        "id": "NY2gMCVHnPhJ"
      },
      "execution_count": null,
      "outputs": []
    },
    {
      "cell_type": "code",
      "source": [
        "y"
      ],
      "metadata": {
        "colab": {
          "base_uri": "https://localhost:8080/"
        },
        "id": "TPWwU5y1neou",
        "outputId": "07056210-be2f-458f-de7b-5efbb41034ff"
      },
      "execution_count": null,
      "outputs": [
        {
          "output_type": "execute_result",
          "data": {
            "text/plain": [
              "tensor([[0.6421, 0.7261, 0.1170, 0.6589, 0.6241],\n",
              "        [0.7519, 0.4411, 0.1245, 0.8796, 0.2748]])"
            ]
          },
          "metadata": {},
          "execution_count": 7
        }
      ]
    },
    {
      "cell_type": "markdown",
      "source": [
        "Lets say you need to give input of image pixels to neural network which has shape [2,5] you cannot directly give it as input you need to **flatten** it in tensor flow or numpy you would use **reshape** but in pytorch you use **view**"
      ],
      "metadata": {
        "id": "d-NWiDHWn4Lo"
      }
    },
    {
      "cell_type": "code",
      "source": [
        "y.view([1,10])"
      ],
      "metadata": {
        "colab": {
          "base_uri": "https://localhost:8080/"
        },
        "id": "gl7zrWILooBr",
        "outputId": "c39bc32d-2e3c-4ef7-ffa3-4d5a354412ee"
      },
      "execution_count": null,
      "outputs": [
        {
          "output_type": "execute_result",
          "data": {
            "text/plain": [
              "tensor([[0.6421, 0.7261, 0.1170, 0.6589, 0.6241, 0.7519, 0.4411, 0.1245, 0.8796,\n",
              "         0.2748]])"
            ]
          },
          "metadata": {},
          "execution_count": 8
        }
      ]
    },
    {
      "cell_type": "code",
      "source": [
        "#view needs re-assignment"
      ],
      "metadata": {
        "id": "UJfTkzKlp2HA"
      },
      "execution_count": null,
      "outputs": []
    },
    {
      "cell_type": "code",
      "source": [
        "y"
      ],
      "metadata": {
        "colab": {
          "base_uri": "https://localhost:8080/"
        },
        "id": "6A3FKZg9p6tR",
        "outputId": "7c13bed1-a775-4889-8855-40f3e8e6edc8"
      },
      "execution_count": null,
      "outputs": [
        {
          "output_type": "execute_result",
          "data": {
            "text/plain": [
              "tensor([[0.6421, 0.7261, 0.1170, 0.6589, 0.6241],\n",
              "        [0.7519, 0.4411, 0.1245, 0.8796, 0.2748]])"
            ]
          },
          "metadata": {},
          "execution_count": 10
        }
      ]
    },
    {
      "cell_type": "code",
      "source": [
        "y=y.view([1,10])"
      ],
      "metadata": {
        "id": "nxrSdpGyp8L-"
      },
      "execution_count": null,
      "outputs": []
    },
    {
      "cell_type": "code",
      "source": [
        "y"
      ],
      "metadata": {
        "colab": {
          "base_uri": "https://localhost:8080/"
        },
        "id": "IF2QH6eZp_RK",
        "outputId": "a3a050f3-f098-4e61-d6a0-56c721a3497f"
      },
      "execution_count": null,
      "outputs": [
        {
          "output_type": "execute_result",
          "data": {
            "text/plain": [
              "tensor([[0.6421, 0.7261, 0.1170, 0.6589, 0.6241, 0.7519, 0.4411, 0.1245, 0.8796,\n",
              "         0.2748]])"
            ]
          },
          "metadata": {},
          "execution_count": 12
        }
      ]
    },
    {
      "cell_type": "markdown",
      "source": [
        "Setting Data for NeuralNets\n"
      ],
      "metadata": {
        "id": "B_rH3TwJsR16"
      }
    },
    {
      "cell_type": "code",
      "source": [
        "import torch\n",
        "import torchvision\n",
        "from torchvision import transforms, datasets"
      ],
      "metadata": {
        "id": "AZ35eko-p_-7"
      },
      "execution_count": null,
      "outputs": []
    },
    {
      "cell_type": "code",
      "source": [
        "# When you deal with the data first step is to split the data into training and testing data, in order to validate the training\n",
        "\n"
      ],
      "metadata": {
        "id": "kyEb1iBosiNy"
      },
      "execution_count": null,
      "outputs": []
    },
    {
      "cell_type": "code",
      "source": [
        "train = datasets.MNIST(\"\", train=True, download=True, transform=transforms.Compose([transforms.ToTensor()]))\n",
        "\n",
        "test=datasets.MNIST(\"\", train=False, download=True, transform=transforms.Compose([transforms.ToTensor()]))"
      ],
      "metadata": {
        "colab": {
          "base_uri": "https://localhost:8080/"
        },
        "id": "Y3vkKE60toPJ",
        "outputId": "0fd5b490-24a7-49f2-dbd3-cf5a601aeeb4"
      },
      "execution_count": null,
      "outputs": [
        {
          "output_type": "stream",
          "name": "stderr",
          "text": [
            "100%|██████████| 9.91M/9.91M [00:00<00:00, 17.5MB/s]\n",
            "100%|██████████| 28.9k/28.9k [00:00<00:00, 482kB/s]\n",
            "100%|██████████| 1.65M/1.65M [00:00<00:00, 4.43MB/s]\n",
            "100%|██████████| 4.54k/4.54k [00:00<00:00, 8.65MB/s]\n"
          ]
        }
      ]
    },
    {
      "cell_type": "code",
      "source": [
        "trainset = torch.utils.data.DataLoader(train, batch_size=10, shuffle=True) # for deep learnig it's gping to be huge amount of data like millions and billions of rows\n",
        "testset = torch.utils.data.DataLoader(test, batch_size=10, shuffle=True) # so you can input in batches using batch_size"
      ],
      "metadata": {
        "id": "8eyRE1pet4Z6"
      },
      "execution_count": null,
      "outputs": []
    },
    {
      "cell_type": "markdown",
      "source": [
        "We are using shuffle to avoid the NN to learn from just the order of data decreasing or increasing, ie shuffle=True, below lets print the data"
      ],
      "metadata": {
        "id": "8-AQ3PZJvvsJ"
      }
    },
    {
      "cell_type": "code",
      "source": [
        "for data in trainset: # we made batches above\n",
        "  print(data)\n",
        "  break"
      ],
      "metadata": {
        "colab": {
          "base_uri": "https://localhost:8080/"
        },
        "id": "sTcLZXvSvWav",
        "outputId": "643cbaab-10dc-4161-84ad-62d115bfc354"
      },
      "execution_count": null,
      "outputs": [
        {
          "output_type": "stream",
          "name": "stdout",
          "text": [
            "[tensor([[[[0., 0., 0.,  ..., 0., 0., 0.],\n",
            "          [0., 0., 0.,  ..., 0., 0., 0.],\n",
            "          [0., 0., 0.,  ..., 0., 0., 0.],\n",
            "          ...,\n",
            "          [0., 0., 0.,  ..., 0., 0., 0.],\n",
            "          [0., 0., 0.,  ..., 0., 0., 0.],\n",
            "          [0., 0., 0.,  ..., 0., 0., 0.]]],\n",
            "\n",
            "\n",
            "        [[[0., 0., 0.,  ..., 0., 0., 0.],\n",
            "          [0., 0., 0.,  ..., 0., 0., 0.],\n",
            "          [0., 0., 0.,  ..., 0., 0., 0.],\n",
            "          ...,\n",
            "          [0., 0., 0.,  ..., 0., 0., 0.],\n",
            "          [0., 0., 0.,  ..., 0., 0., 0.],\n",
            "          [0., 0., 0.,  ..., 0., 0., 0.]]],\n",
            "\n",
            "\n",
            "        [[[0., 0., 0.,  ..., 0., 0., 0.],\n",
            "          [0., 0., 0.,  ..., 0., 0., 0.],\n",
            "          [0., 0., 0.,  ..., 0., 0., 0.],\n",
            "          ...,\n",
            "          [0., 0., 0.,  ..., 0., 0., 0.],\n",
            "          [0., 0., 0.,  ..., 0., 0., 0.],\n",
            "          [0., 0., 0.,  ..., 0., 0., 0.]]],\n",
            "\n",
            "\n",
            "        ...,\n",
            "\n",
            "\n",
            "        [[[0., 0., 0.,  ..., 0., 0., 0.],\n",
            "          [0., 0., 0.,  ..., 0., 0., 0.],\n",
            "          [0., 0., 0.,  ..., 0., 0., 0.],\n",
            "          ...,\n",
            "          [0., 0., 0.,  ..., 0., 0., 0.],\n",
            "          [0., 0., 0.,  ..., 0., 0., 0.],\n",
            "          [0., 0., 0.,  ..., 0., 0., 0.]]],\n",
            "\n",
            "\n",
            "        [[[0., 0., 0.,  ..., 0., 0., 0.],\n",
            "          [0., 0., 0.,  ..., 0., 0., 0.],\n",
            "          [0., 0., 0.,  ..., 0., 0., 0.],\n",
            "          ...,\n",
            "          [0., 0., 0.,  ..., 0., 0., 0.],\n",
            "          [0., 0., 0.,  ..., 0., 0., 0.],\n",
            "          [0., 0., 0.,  ..., 0., 0., 0.]]],\n",
            "\n",
            "\n",
            "        [[[0., 0., 0.,  ..., 0., 0., 0.],\n",
            "          [0., 0., 0.,  ..., 0., 0., 0.],\n",
            "          [0., 0., 0.,  ..., 0., 0., 0.],\n",
            "          ...,\n",
            "          [0., 0., 0.,  ..., 0., 0., 0.],\n",
            "          [0., 0., 0.,  ..., 0., 0., 0.],\n",
            "          [0., 0., 0.,  ..., 0., 0., 0.]]]]), tensor([5, 2, 6, 8, 8, 0, 6, 4, 2, 1])]\n"
          ]
        }
      ]
    },
    {
      "cell_type": "code",
      "source": [
        "x,y = data[0][0], data[1][0]"
      ],
      "metadata": {
        "id": "1cvOsRIowgtu"
      },
      "execution_count": null,
      "outputs": []
    },
    {
      "cell_type": "code",
      "source": [
        "print(y)\n",
        "print(x)\n",
        "print(x.shape)"
      ],
      "metadata": {
        "colab": {
          "base_uri": "https://localhost:8080/"
        },
        "id": "AqM0r9b9iPba",
        "outputId": "dc6a8a74-d4ba-438b-b04b-17150524dfb0"
      },
      "execution_count": null,
      "outputs": [
        {
          "output_type": "stream",
          "name": "stdout",
          "text": [
            "tensor(5)\n",
            "tensor([[[0.0000, 0.0000, 0.0000, 0.0000, 0.0000, 0.0000, 0.0000, 0.0000,\n",
            "          0.0000, 0.0000, 0.0000, 0.0000, 0.0000, 0.0000, 0.0000, 0.0000,\n",
            "          0.0000, 0.0000, 0.0000, 0.0000, 0.0000, 0.0000, 0.0000, 0.0000,\n",
            "          0.0000, 0.0000, 0.0000, 0.0000],\n",
            "         [0.0000, 0.0000, 0.0000, 0.0000, 0.0000, 0.0000, 0.0000, 0.0000,\n",
            "          0.0000, 0.0000, 0.0000, 0.0000, 0.0000, 0.0000, 0.0000, 0.0000,\n",
            "          0.0000, 0.0000, 0.0000, 0.0000, 0.0000, 0.0000, 0.0000, 0.0000,\n",
            "          0.0000, 0.0000, 0.0000, 0.0000],\n",
            "         [0.0000, 0.0000, 0.0000, 0.0000, 0.0000, 0.0000, 0.0000, 0.0000,\n",
            "          0.0000, 0.0000, 0.0000, 0.0000, 0.0000, 0.0000, 0.0000, 0.0000,\n",
            "          0.0000, 0.0000, 0.0000, 0.0000, 0.0000, 0.0000, 0.0000, 0.0000,\n",
            "          0.0000, 0.0000, 0.0000, 0.0000],\n",
            "         [0.0000, 0.0000, 0.0000, 0.0000, 0.0000, 0.0000, 0.0000, 0.0000,\n",
            "          0.0000, 0.0000, 0.0000, 0.0000, 0.0000, 0.0000, 0.0000, 0.0000,\n",
            "          0.0000, 0.0000, 0.0000, 0.0000, 0.0000, 0.0000, 0.0000, 0.0000,\n",
            "          0.0000, 0.0000, 0.0000, 0.0000],\n",
            "         [0.0000, 0.0000, 0.0000, 0.0000, 0.0000, 0.0000, 0.0000, 0.0000,\n",
            "          0.0000, 0.0000, 0.0000, 0.0000, 0.0000, 0.0000, 0.0000, 0.0000,\n",
            "          0.0000, 0.0000, 0.0000, 0.0000, 0.0000, 0.0000, 0.0000, 0.0000,\n",
            "          0.0000, 0.0000, 0.0000, 0.0000],\n",
            "         [0.0000, 0.0000, 0.0000, 0.0000, 0.0000, 0.0000, 0.0000, 0.0000,\n",
            "          0.0000, 0.0000, 0.0353, 0.3137, 0.3137, 0.3137, 0.3137, 0.5216,\n",
            "          0.6549, 0.6549, 0.6549, 0.9412, 0.9608, 0.1569, 0.0000, 0.0000,\n",
            "          0.0000, 0.0000, 0.0000, 0.0000],\n",
            "         [0.0000, 0.0000, 0.0000, 0.0000, 0.0000, 0.0000, 0.0000, 0.0000,\n",
            "          0.0000, 0.0000, 0.4157, 0.9961, 0.9961, 0.9961, 0.9961, 0.9961,\n",
            "          0.9961, 0.9961, 0.9961, 0.9961, 0.8706, 0.1725, 0.0000, 0.0000,\n",
            "          0.0000, 0.0000, 0.0000, 0.0000],\n",
            "         [0.0000, 0.0000, 0.0000, 0.0000, 0.0000, 0.0000, 0.0000, 0.0000,\n",
            "          0.0000, 0.1294, 0.9804, 0.9961, 0.9961, 0.9961, 0.9961, 0.9961,\n",
            "          0.6863, 0.3412, 0.0667, 0.0667, 0.0392, 0.0000, 0.0000, 0.0000,\n",
            "          0.0000, 0.0000, 0.0000, 0.0000],\n",
            "         [0.0000, 0.0000, 0.0000, 0.0000, 0.0000, 0.0000, 0.0000, 0.0000,\n",
            "          0.0000, 0.0627, 0.8118, 0.9961, 0.9961, 0.8039, 0.2235, 0.1020,\n",
            "          0.0078, 0.0000, 0.0000, 0.0000, 0.0000, 0.0000, 0.0000, 0.0000,\n",
            "          0.0000, 0.0000, 0.0000, 0.0000],\n",
            "         [0.0000, 0.0000, 0.0000, 0.0000, 0.0000, 0.0000, 0.0000, 0.0000,\n",
            "          0.0000, 0.0275, 0.7804, 0.9961, 0.9765, 0.1961, 0.0000, 0.0000,\n",
            "          0.0000, 0.0000, 0.0000, 0.0000, 0.0000, 0.0000, 0.0000, 0.0000,\n",
            "          0.0000, 0.0000, 0.0000, 0.0000],\n",
            "         [0.0000, 0.0000, 0.0000, 0.0000, 0.0000, 0.0000, 0.0000, 0.0000,\n",
            "          0.0000, 0.1882, 0.9961, 0.9961, 0.9765, 0.4863, 0.4863, 0.3882,\n",
            "          0.1412, 0.0157, 0.0000, 0.0000, 0.0000, 0.0000, 0.0000, 0.0000,\n",
            "          0.0000, 0.0000, 0.0000, 0.0000],\n",
            "         [0.0000, 0.0000, 0.0000, 0.0000, 0.0000, 0.0000, 0.0000, 0.0000,\n",
            "          0.0196, 0.6549, 0.9961, 0.9961, 0.9961, 0.9961, 0.9961, 0.9961,\n",
            "          0.9961, 0.4353, 0.0157, 0.0000, 0.0000, 0.0000, 0.0000, 0.0000,\n",
            "          0.0000, 0.0000, 0.0000, 0.0000],\n",
            "         [0.0000, 0.0000, 0.0000, 0.0000, 0.0000, 0.0000, 0.0000, 0.0000,\n",
            "          0.1725, 0.9961, 0.9961, 0.9961, 0.9686, 0.9255, 0.9294, 0.9686,\n",
            "          0.9961, 0.9961, 0.5490, 0.0118, 0.0000, 0.0000, 0.0000, 0.0000,\n",
            "          0.0000, 0.0000, 0.0000, 0.0000],\n",
            "         [0.0000, 0.0000, 0.0000, 0.0000, 0.0000, 0.0000, 0.0000, 0.0000,\n",
            "          0.1725, 0.9961, 0.9922, 0.6745, 0.1725, 0.0000, 0.0000, 0.1725,\n",
            "          0.9451, 0.9961, 0.9961, 0.4353, 0.0000, 0.0000, 0.0000, 0.0000,\n",
            "          0.0000, 0.0000, 0.0000, 0.0000],\n",
            "         [0.0000, 0.0000, 0.0000, 0.0000, 0.0000, 0.0000, 0.0000, 0.0000,\n",
            "          0.1137, 0.6510, 0.4667, 0.0000, 0.0000, 0.0000, 0.0000, 0.0000,\n",
            "          0.2902, 0.9255, 0.9961, 0.9059, 0.0706, 0.0000, 0.0000, 0.0000,\n",
            "          0.0000, 0.0000, 0.0000, 0.0000],\n",
            "         [0.0000, 0.0000, 0.0000, 0.0000, 0.0000, 0.0000, 0.0000, 0.0000,\n",
            "          0.0000, 0.0000, 0.0000, 0.0000, 0.0000, 0.0000, 0.0000, 0.0000,\n",
            "          0.0000, 0.5529, 0.9961, 0.9961, 0.2078, 0.0000, 0.0000, 0.0000,\n",
            "          0.0000, 0.0000, 0.0000, 0.0000],\n",
            "         [0.0000, 0.0000, 0.0000, 0.0000, 0.0000, 0.0000, 0.0000, 0.0000,\n",
            "          0.0000, 0.0000, 0.0000, 0.0000, 0.0000, 0.0000, 0.0000, 0.0000,\n",
            "          0.0000, 0.5490, 0.9961, 0.9961, 0.2039, 0.0000, 0.0000, 0.0000,\n",
            "          0.0000, 0.0000, 0.0000, 0.0000],\n",
            "         [0.0000, 0.0000, 0.0000, 0.0000, 0.0000, 0.0000, 0.0000, 0.0000,\n",
            "          0.0000, 0.0000, 0.0000, 0.0000, 0.0000, 0.0000, 0.0000, 0.0000,\n",
            "          0.0000, 0.8706, 0.9961, 0.9608, 0.1569, 0.0000, 0.0000, 0.0000,\n",
            "          0.0000, 0.0000, 0.0000, 0.0000],\n",
            "         [0.0000, 0.0000, 0.0000, 0.0000, 0.0000, 0.0000, 0.0000, 0.0000,\n",
            "          0.0000, 0.0000, 0.0000, 0.0000, 0.0000, 0.0000, 0.0000, 0.0000,\n",
            "          0.0510, 0.9137, 0.9961, 0.6667, 0.0000, 0.0000, 0.0000, 0.0000,\n",
            "          0.0000, 0.0000, 0.0000, 0.0000],\n",
            "         [0.0000, 0.0000, 0.0000, 0.0000, 0.0000, 0.0000, 0.0000, 0.0000,\n",
            "          0.0000, 0.0000, 0.0000, 0.0000, 0.0000, 0.0000, 0.0000, 0.0000,\n",
            "          0.7176, 0.9961, 0.9961, 0.2157, 0.0000, 0.0000, 0.0000, 0.0000,\n",
            "          0.0000, 0.0000, 0.0000, 0.0000],\n",
            "         [0.0000, 0.0000, 0.0000, 0.0000, 0.0000, 0.0000, 0.0353, 0.1098,\n",
            "          0.0000, 0.0000, 0.0000, 0.0000, 0.0000, 0.0000, 0.0941, 0.5647,\n",
            "          0.9843, 0.9961, 0.6353, 0.0314, 0.0000, 0.0000, 0.0000, 0.0000,\n",
            "          0.0000, 0.0000, 0.0000, 0.0000],\n",
            "         [0.0000, 0.0000, 0.0000, 0.0000, 0.0000, 0.0000, 0.4000, 0.9529,\n",
            "          0.3843, 0.0000, 0.0000, 0.0078, 0.1176, 0.4510, 0.9294, 0.9961,\n",
            "          0.9961, 0.8314, 0.0745, 0.0000, 0.0000, 0.0000, 0.0000, 0.0000,\n",
            "          0.0000, 0.0000, 0.0000, 0.0000],\n",
            "         [0.0000, 0.0000, 0.0000, 0.0000, 0.0000, 0.0000, 0.5843, 0.9961,\n",
            "          0.8118, 0.4157, 0.4510, 0.7725, 0.9961, 0.9961, 1.0000, 0.9529,\n",
            "          0.5216, 0.0275, 0.0000, 0.0000, 0.0000, 0.0000, 0.0000, 0.0000,\n",
            "          0.0000, 0.0000, 0.0000, 0.0000],\n",
            "         [0.0000, 0.0000, 0.0000, 0.0000, 0.0000, 0.0000, 0.3294, 0.9922,\n",
            "          0.9961, 0.9961, 0.9961, 0.9961, 0.9922, 0.9608, 0.5098, 0.1059,\n",
            "          0.0000, 0.0000, 0.0000, 0.0000, 0.0000, 0.0000, 0.0000, 0.0000,\n",
            "          0.0000, 0.0000, 0.0000, 0.0000],\n",
            "         [0.0000, 0.0000, 0.0000, 0.0000, 0.0000, 0.0000, 0.0000, 0.4706,\n",
            "          0.7098, 0.9451, 0.6510, 0.6510, 0.3922, 0.0000, 0.0000, 0.0000,\n",
            "          0.0000, 0.0000, 0.0000, 0.0000, 0.0000, 0.0000, 0.0000, 0.0000,\n",
            "          0.0000, 0.0000, 0.0000, 0.0000],\n",
            "         [0.0000, 0.0000, 0.0000, 0.0000, 0.0000, 0.0000, 0.0000, 0.0000,\n",
            "          0.0000, 0.0000, 0.0000, 0.0000, 0.0000, 0.0000, 0.0000, 0.0000,\n",
            "          0.0000, 0.0000, 0.0000, 0.0000, 0.0000, 0.0000, 0.0000, 0.0000,\n",
            "          0.0000, 0.0000, 0.0000, 0.0000],\n",
            "         [0.0000, 0.0000, 0.0000, 0.0000, 0.0000, 0.0000, 0.0000, 0.0000,\n",
            "          0.0000, 0.0000, 0.0000, 0.0000, 0.0000, 0.0000, 0.0000, 0.0000,\n",
            "          0.0000, 0.0000, 0.0000, 0.0000, 0.0000, 0.0000, 0.0000, 0.0000,\n",
            "          0.0000, 0.0000, 0.0000, 0.0000],\n",
            "         [0.0000, 0.0000, 0.0000, 0.0000, 0.0000, 0.0000, 0.0000, 0.0000,\n",
            "          0.0000, 0.0000, 0.0000, 0.0000, 0.0000, 0.0000, 0.0000, 0.0000,\n",
            "          0.0000, 0.0000, 0.0000, 0.0000, 0.0000, 0.0000, 0.0000, 0.0000,\n",
            "          0.0000, 0.0000, 0.0000, 0.0000]]])\n",
            "torch.Size([1, 28, 28])\n"
          ]
        }
      ]
    },
    {
      "cell_type": "code",
      "source": [
        "import matplotlib.pyplot as plt\n",
        "plt.imshow(x.view(28,28))\n",
        "plt.show()"
      ],
      "metadata": {
        "colab": {
          "base_uri": "https://localhost:8080/",
          "height": 430
        },
        "id": "UzpY4RghiQb4",
        "outputId": "2f5897d8-4a0c-4a6f-dd78-483195bd1d00"
      },
      "execution_count": null,
      "outputs": [
        {
          "output_type": "display_data",
          "data": {
            "text/plain": [
              "<Figure size 640x480 with 1 Axes>"
            ],
            "image/png": "[encoded data removed]"
          },
          "metadata": {}
        }
      ]
    },
    {
      "cell_type": "code",
      "source": [
        "total =0\n",
        "counter_dict = {0:0, 1:0, 2:0, 3:0, 4:0, 5:0, 6:0, 7:0, 8:0, 9:0}\n",
        "\n",
        "for data in trainset:\n",
        "  Xs, ys = data\n",
        "  for y in ys:\n",
        "    counter_dict[int(y)] +=1\n",
        "    total +=1\n",
        "\n",
        "print(counter_dict)"
      ],
      "metadata": {
        "colab": {
          "base_uri": "https://localhost:8080/"
        },
        "id": "Y3A0ZJnbjR-_",
        "outputId": "f80c79d1-3bbe-43a9-b5e1-9340ae553c48"
      },
      "execution_count": null,
      "outputs": [
        {
          "output_type": "stream",
          "name": "stdout",
          "text": [
            "{0: 5923, 1: 6742, 2: 5958, 3: 6131, 4: 5842, 5: 5421, 6: 5918, 7: 6265, 8: 5851, 9: 5949}\n"
          ]
        }
      ]
    },
    {
      "cell_type": "code",
      "source": [
        "print(total)\n",
        "for i in counter_dict:\n",
        "  print(f\"{i}: {counter_dict[i]/total*100}\")"
      ],
      "metadata": {
        "colab": {
          "base_uri": "https://localhost:8080/"
        },
        "id": "nZJwS-xlmX-Z",
        "outputId": "c8eaf86a-7171-4662-fe69-2a3187183998"
      },
      "execution_count": null,
      "outputs": [
        {
          "output_type": "stream",
          "name": "stdout",
          "text": [
            "60000\n",
            "0: 9.871666666666666\n",
            "1: 11.236666666666666\n",
            "2: 9.93\n",
            "3: 10.218333333333334\n",
            "4: 9.736666666666666\n",
            "5: 9.035\n",
            "6: 9.863333333333333\n",
            "7: 10.441666666666666\n",
            "8: 9.751666666666667\n",
            "9: 9.915000000000001\n"
          ]
        }
      ]
    },
    {
      "cell_type": "markdown",
      "source": [
        "Here we can easily say that the data is pretty much balanced, If it would have been like some number is 45% vs others are 5% this could have been imbalanced data\n",
        "\n"
      ],
      "metadata": {
        "id": "UJJOqeeLnL7O"
      }
    },
    {
      "cell_type": "code",
      "source": [
        "import torch.nn as nn\n",
        "import torch.nn.functional as F"
      ],
      "metadata": {
        "id": "Hco2RtbZmvrf"
      },
      "execution_count": null,
      "outputs": []
    },
    {
      "cell_type": "code",
      "source": [
        "class Net(nn.Module):\n",
        "  def __init__(self):\n",
        "    super().__init__()\n",
        "    self.fc1 = nn.Linear(28*28, 64) #fc is fully connected input layer 1\n",
        "    # 28 because input image is 28by28 pixel and so give input to nn we will faltten it, that explains 28*28\n",
        "    # faltten means howmuchever rows or cols are there the will be placed into one dimentional array\n",
        "    self.fc2 = nn.Linear(64, 64) # the output from previous layer will be input to the next layer so the number should match\n",
        "    self.fc3 = nn.Linear(64, 64)\n",
        "    self.fc4 = nn.Linear(64, 10)\n",
        "\n",
        "  def forward(self, x):\n",
        "    x = F.relu(self.fc1(x)) # relu is activation function\n",
        "    x = F.relu(self.fc2(x))\n",
        "    x = F.relu(self.fc3(x))\n",
        "    x = self.fc4(x)\n",
        "    return F.log_softmax(x, dim=1) # in end we are using softmax as the output is we wanna know what number from 0 to 9 it is\n",
        "    # so with softmax is mostly used at end when we are doing multiclass classification like recognising handwritten digits\n",
        "\n",
        "net = Net()\n",
        "print(net)"
      ],
      "metadata": {
        "colab": {
          "base_uri": "https://localhost:8080/"
        },
        "id": "hidvjl8inmWD",
        "outputId": "0000e7ee-6485-4acb-a534-364b19b9a8c8"
      },
      "execution_count": null,
      "outputs": [
        {
          "output_type": "stream",
          "name": "stdout",
          "text": [
            "Net(\n",
            "  (fc1): Linear(in_features=784, out_features=64, bias=True)\n",
            "  (fc2): Linear(in_features=64, out_features=64, bias=True)\n",
            "  (fc3): Linear(in_features=64, out_features=64, bias=True)\n",
            "  (fc4): Linear(in_features=64, out_features=10, bias=True)\n",
            ")\n"
          ]
        }
      ]
    },
    {
      "cell_type": "code",
      "source": [
        "X = torch.rand((28,28))\n",
        "print(X)\n"
      ],
      "metadata": {
        "colab": {
          "base_uri": "https://localhost:8080/"
        },
        "id": "J5LIMmHgqaak",
        "outputId": "74a1c9ef-9d06-44db-8513-2d14208ccd34"
      },
      "execution_count": null,
      "outputs": [
        {
          "output_type": "stream",
          "name": "stdout",
          "text": [
            "tensor([[3.1662e-01, 6.9211e-01, 1.8954e-01, 3.8014e-01, 3.8668e-01, 5.6070e-01,\n",
            "         4.6878e-01, 8.8174e-01, 9.3798e-02, 4.4097e-01, 5.2121e-01, 3.2295e-01,\n",
            "         1.9220e-01, 6.6633e-01, 7.2588e-01, 1.6734e-01, 7.4749e-01, 1.0653e-01,\n",
            "         7.6245e-01, 3.3649e-01, 5.1146e-01, 8.3332e-01, 1.2606e-01, 8.8185e-01,\n",
            "         2.5409e-01, 5.4602e-01, 4.2640e-02, 9.9614e-02],\n",
            "        [1.2056e-01, 1.7828e-01, 6.7014e-01, 9.4729e-01, 7.0411e-01, 3.1122e-01,\n",
            "         7.6413e-01, 8.0637e-01, 1.4570e-01, 1.3592e-02, 4.4274e-02, 5.8794e-01,\n",
            "         4.1002e-01, 1.0252e-01, 3.8768e-01, 5.8906e-01, 7.4205e-01, 3.5282e-02,\n",
            "         1.4646e-01, 5.5722e-01, 1.3741e-01, 1.5344e-01, 6.6757e-05, 2.7290e-01,\n",
            "         9.8669e-01, 6.3773e-02, 8.0136e-01, 2.7487e-01],\n",
            "        [9.1805e-01, 3.3937e-01, 7.5363e-01, 4.9003e-01, 7.3209e-01, 9.3199e-01,\n",
            "         5.0757e-01, 5.2908e-01, 2.9677e-01, 6.3127e-01, 7.9673e-01, 7.0534e-01,\n",
            "         2.0810e-01, 7.1355e-01, 4.3378e-01, 9.4303e-01, 8.5074e-01, 3.7172e-01,\n",
            "         8.5251e-01, 4.4980e-01, 7.6771e-01, 3.4461e-01, 8.9055e-01, 2.8487e-01,\n",
            "         2.2896e-01, 5.8748e-01, 8.3192e-01, 3.9756e-01],\n",
            "        [7.0632e-01, 5.2200e-01, 4.0613e-01, 9.7976e-01, 8.0284e-01, 7.8559e-01,\n",
            "         7.7164e-01, 2.9871e-01, 2.2138e-01, 7.0274e-01, 8.9213e-01, 9.9578e-01,\n",
            "         3.0951e-01, 8.1013e-02, 6.9175e-01, 2.2479e-01, 4.7640e-01, 2.2442e-01,\n",
            "         9.2322e-01, 5.9619e-01, 7.7604e-01, 3.1941e-01, 8.5533e-01, 2.5568e-01,\n",
            "         9.0807e-02, 4.5630e-01, 6.7881e-01, 7.6569e-01],\n",
            "        [4.3364e-01, 1.3383e-01, 3.5226e-01, 9.3730e-01, 3.0091e-01, 8.1600e-01,\n",
            "         8.8335e-01, 4.2416e-01, 8.9189e-01, 7.2444e-01, 8.8225e-01, 7.1896e-01,\n",
            "         3.4075e-01, 9.9681e-01, 6.3035e-01, 3.3462e-01, 2.5798e-01, 9.0914e-01,\n",
            "         5.9596e-01, 7.6492e-01, 9.1964e-01, 3.1048e-01, 4.0826e-01, 7.8509e-02,\n",
            "         5.0839e-01, 8.2356e-01, 1.5637e-01, 5.3430e-02],\n",
            "        [5.8771e-01, 8.4277e-01, 2.8620e-01, 2.2675e-02, 9.5710e-01, 8.5216e-01,\n",
            "         5.0674e-01, 8.6598e-01, 2.4060e-01, 3.9739e-01, 7.2873e-01, 1.0963e-02,\n",
            "         2.5817e-01, 7.0298e-03, 6.8146e-01, 7.8759e-01, 9.5937e-01, 7.4041e-01,\n",
            "         4.7703e-01, 3.2544e-01, 9.8577e-01, 3.4256e-01, 3.6410e-01, 5.7790e-01,\n",
            "         7.8076e-01, 3.1210e-01, 1.6185e-01, 1.2408e-01],\n",
            "        [3.5367e-01, 5.6399e-01, 1.4524e-02, 5.0067e-01, 4.4527e-01, 5.6560e-01,\n",
            "         7.9797e-01, 9.6043e-01, 7.1115e-01, 2.1085e-01, 5.0573e-02, 1.5794e-01,\n",
            "         3.6026e-01, 5.8438e-01, 6.8900e-01, 9.9317e-01, 5.0985e-01, 2.9686e-01,\n",
            "         4.7806e-01, 7.5869e-01, 9.9552e-01, 5.1358e-02, 3.2481e-01, 3.9656e-01,\n",
            "         5.1538e-01, 6.1617e-01, 6.2690e-01, 2.5550e-01],\n",
            "        [9.9325e-01, 4.2398e-01, 4.6252e-01, 6.7740e-01, 7.7367e-01, 8.1715e-01,\n",
            "         9.7767e-01, 7.6748e-01, 5.6085e-01, 1.0857e-01, 5.0854e-01, 5.0477e-01,\n",
            "         6.3231e-01, 9.2973e-01, 8.6868e-01, 6.8865e-01, 8.0168e-01, 8.8522e-01,\n",
            "         6.8692e-01, 1.3817e-01, 7.7003e-01, 5.2020e-01, 3.4539e-02, 5.0981e-02,\n",
            "         9.7969e-02, 6.7514e-01, 5.3042e-01, 4.8675e-01],\n",
            "        [8.8923e-01, 3.2088e-01, 1.4853e-01, 1.6169e-01, 4.9482e-01, 6.7913e-01,\n",
            "         3.5920e-01, 1.5325e-02, 9.0113e-01, 1.3453e-01, 6.1336e-01, 9.4886e-01,\n",
            "         3.7347e-01, 3.2164e-01, 2.0396e-01, 3.2964e-01, 4.8027e-01, 8.9501e-01,\n",
            "         1.3558e-01, 3.0760e-01, 5.3539e-01, 5.4480e-01, 3.8304e-01, 2.7365e-02,\n",
            "         8.7929e-01, 5.5009e-01, 4.9123e-01, 3.6711e-01],\n",
            "        [7.2694e-01, 1.3888e-02, 4.3493e-02, 3.9194e-01, 9.6528e-02, 2.9480e-01,\n",
            "         6.4125e-01, 4.7199e-02, 8.9070e-01, 5.7720e-01, 3.5186e-01, 3.8664e-01,\n",
            "         7.6930e-01, 9.2707e-01, 7.9839e-01, 6.7862e-01, 2.6445e-01, 3.0385e-01,\n",
            "         4.8287e-01, 7.0444e-01, 7.1423e-01, 1.2322e-01, 8.1024e-01, 9.0561e-01,\n",
            "         5.4599e-01, 7.9269e-01, 7.5368e-01, 3.0183e-02],\n",
            "        [7.2400e-01, 5.0142e-02, 6.7507e-01, 9.2691e-01, 6.1530e-01, 3.4783e-03,\n",
            "         5.5301e-01, 8.9906e-01, 2.2713e-01, 5.6975e-02, 5.1739e-01, 9.2730e-01,\n",
            "         4.8354e-02, 2.6535e-01, 6.1084e-01, 5.9525e-01, 7.2685e-01, 6.8804e-01,\n",
            "         6.5144e-01, 6.8954e-01, 1.8782e-02, 2.9608e-01, 7.1420e-01, 5.4253e-01,\n",
            "         5.3164e-01, 9.7716e-01, 4.7326e-01, 1.3977e-01],\n",
            "        [4.6408e-01, 4.0022e-01, 7.8938e-01, 7.6570e-01, 5.0911e-01, 1.9275e-02,\n",
            "         4.9093e-01, 1.8473e-01, 9.7577e-01, 7.7014e-01, 4.3829e-02, 8.6235e-01,\n",
            "         6.2164e-02, 7.5004e-01, 1.5148e-01, 1.8309e-01, 9.9414e-01, 3.3391e-01,\n",
            "         1.3441e-01, 3.7759e-01, 6.5463e-01, 1.8674e-01, 5.3796e-01, 7.9264e-01,\n",
            "         9.0334e-01, 1.0894e-01, 8.8201e-01, 9.1578e-01],\n",
            "        [4.1828e-01, 8.8265e-01, 3.2365e-01, 2.2904e-01, 7.2220e-01, 6.7782e-01,\n",
            "         7.9163e-01, 4.5765e-01, 8.7880e-02, 2.3515e-01, 1.4039e-01, 5.1558e-01,\n",
            "         5.3004e-01, 9.1621e-01, 9.9590e-02, 2.6006e-01, 6.9440e-01, 1.3732e-01,\n",
            "         7.6024e-01, 8.8513e-01, 9.1512e-01, 7.8201e-01, 4.4792e-01, 1.0142e-01,\n",
            "         9.7207e-01, 4.6166e-01, 3.7171e-01, 7.9002e-01],\n",
            "        [9.9823e-01, 5.7768e-01, 1.5969e-03, 6.0343e-01, 3.3973e-01, 5.8735e-01,\n",
            "         6.3183e-01, 7.4372e-01, 2.4120e-01, 9.9747e-01, 4.8168e-01, 2.1656e-01,\n",
            "         5.2804e-01, 2.4664e-01, 8.8587e-01, 8.5522e-01, 8.9097e-01, 4.6766e-02,\n",
            "         9.1558e-01, 4.8046e-01, 3.0575e-02, 4.0164e-01, 6.1985e-01, 8.5304e-01,\n",
            "         1.7890e-01, 8.0874e-01, 4.5640e-01, 1.5751e-01],\n",
            "        [7.3442e-01, 7.8558e-01, 5.6018e-01, 9.3315e-01, 9.7602e-01, 6.3256e-01,\n",
            "         8.6045e-01, 1.6189e-01, 3.1132e-01, 6.3860e-01, 7.1646e-01, 4.4073e-01,\n",
            "         5.6790e-01, 7.4526e-01, 1.9929e-02, 9.7243e-01, 8.7843e-01, 8.7939e-01,\n",
            "         4.1331e-01, 7.8903e-01, 1.9683e-02, 8.8684e-01, 6.2287e-01, 4.1120e-02,\n",
            "         8.3243e-01, 8.4789e-02, 8.5615e-01, 9.0067e-01],\n",
            "        [7.8569e-01, 3.0509e-01, 8.3146e-01, 9.5152e-01, 3.6902e-01, 6.2086e-01,\n",
            "         8.1615e-01, 6.6106e-01, 2.0930e-01, 5.9089e-01, 2.5222e-02, 1.5370e-01,\n",
            "         2.7771e-01, 2.6761e-01, 2.8736e-01, 1.3077e-01, 2.4869e-01, 2.7124e-01,\n",
            "         2.8020e-01, 3.7586e-01, 5.3550e-01, 3.1594e-01, 7.9763e-01, 5.5568e-01,\n",
            "         2.0010e-01, 1.0468e-01, 7.0804e-01, 4.2825e-01],\n",
            "        [6.5364e-01, 3.5486e-01, 8.3268e-01, 7.0055e-01, 6.0340e-02, 4.9449e-01,\n",
            "         1.6357e-01, 8.9652e-01, 2.7965e-01, 8.5229e-01, 9.8947e-02, 8.3811e-01,\n",
            "         3.8153e-01, 2.5609e-02, 8.0693e-02, 8.6960e-01, 4.2705e-01, 2.0086e-01,\n",
            "         1.8940e-01, 8.2793e-01, 4.4721e-01, 3.0735e-01, 3.4423e-01, 3.2641e-01,\n",
            "         1.9520e-01, 5.4875e-01, 4.6094e-01, 3.3492e-02],\n",
            "        [3.2777e-01, 8.0636e-01, 7.4300e-01, 6.4020e-02, 1.3688e-01, 2.9970e-01,\n",
            "         1.2033e-01, 9.5023e-01, 9.0292e-01, 2.7156e-01, 4.1268e-01, 7.6209e-01,\n",
            "         4.2242e-01, 8.5592e-01, 5.6802e-01, 2.2359e-01, 7.9928e-01, 9.6230e-01,\n",
            "         7.7615e-01, 2.1524e-01, 5.4730e-01, 9.0198e-01, 5.0163e-01, 9.3584e-01,\n",
            "         6.2746e-01, 2.5061e-01, 8.1421e-01, 6.9772e-01],\n",
            "        [9.8026e-01, 8.5275e-01, 7.2443e-01, 9.1952e-01, 6.3196e-01, 5.4903e-01,\n",
            "         1.6670e-01, 2.7968e-01, 2.9606e-01, 1.9467e-01, 2.1353e-01, 3.6887e-01,\n",
            "         1.6474e-01, 4.8844e-01, 9.2847e-01, 6.6731e-01, 2.8785e-01, 3.7929e-01,\n",
            "         9.7246e-02, 4.3063e-01, 7.4477e-01, 1.0330e-01, 4.0143e-01, 4.9683e-01,\n",
            "         4.5434e-01, 4.8094e-01, 4.7403e-01, 8.1709e-01],\n",
            "        [9.1067e-01, 9.0960e-01, 4.6174e-01, 1.1598e-01, 2.1647e-01, 8.8566e-01,\n",
            "         6.9192e-01, 5.5837e-01, 1.6981e-01, 7.8768e-01, 4.8765e-01, 6.7821e-02,\n",
            "         3.9913e-01, 1.2399e-01, 7.1677e-01, 1.6908e-02, 7.9141e-02, 9.1784e-01,\n",
            "         7.9817e-01, 3.9576e-03, 9.4106e-01, 1.9901e-01, 4.6064e-01, 3.5417e-01,\n",
            "         9.3555e-01, 4.1967e-01, 9.8284e-01, 6.2407e-02],\n",
            "        [5.5427e-02, 1.4727e-01, 6.6512e-01, 8.5516e-01, 4.3872e-01, 4.1741e-01,\n",
            "         1.9879e-01, 6.7262e-01, 6.1767e-01, 4.9531e-01, 6.2640e-01, 2.9516e-01,\n",
            "         9.9309e-01, 8.9674e-01, 9.0381e-01, 3.3815e-01, 5.2614e-01, 3.5594e-01,\n",
            "         5.2664e-01, 7.8524e-01, 9.0930e-01, 2.7137e-01, 8.1382e-01, 2.8587e-01,\n",
            "         8.8271e-01, 2.9947e-01, 2.1295e-01, 1.8454e-01],\n",
            "        [5.6241e-01, 2.3567e-01, 2.2773e-01, 4.9580e-01, 7.7938e-01, 7.8176e-01,\n",
            "         1.2598e-01, 7.9166e-01, 7.4056e-01, 5.0772e-01, 3.0295e-01, 1.2929e-01,\n",
            "         4.5798e-01, 6.9435e-01, 4.8649e-01, 8.0140e-01, 1.5525e-01, 5.4672e-01,\n",
            "         3.8621e-03, 4.1345e-01, 7.4093e-01, 6.6212e-01, 9.5820e-01, 7.8510e-01,\n",
            "         5.5344e-01, 9.3587e-02, 9.3613e-02, 9.1259e-01],\n",
            "        [2.4454e-01, 5.3059e-01, 2.8305e-01, 7.5647e-01, 5.6335e-01, 9.2940e-01,\n",
            "         9.9412e-01, 8.6530e-01, 9.8471e-01, 7.0940e-01, 9.3335e-01, 3.4336e-01,\n",
            "         5.5971e-01, 9.0643e-01, 2.0502e-01, 4.3371e-01, 9.5938e-01, 7.5659e-01,\n",
            "         1.8109e-01, 7.7179e-01, 4.9860e-01, 3.0218e-01, 9.6950e-01, 4.1176e-01,\n",
            "         6.3783e-01, 2.1180e-01, 2.8676e-01, 1.8688e-01],\n",
            "        [6.5532e-01, 7.2088e-01, 3.7973e-01, 1.7640e-01, 8.5783e-01, 9.2391e-01,\n",
            "         3.7180e-01, 4.0092e-01, 7.6605e-01, 9.1024e-01, 4.4046e-01, 1.4867e-01,\n",
            "         3.1693e-01, 1.2036e-01, 5.1600e-01, 9.8488e-02, 3.0354e-01, 1.2818e-01,\n",
            "         3.0915e-01, 1.5071e-01, 4.0124e-01, 5.8815e-01, 3.7922e-01, 5.1138e-01,\n",
            "         9.4307e-01, 4.7548e-01, 6.1230e-01, 4.5984e-01],\n",
            "        [7.9373e-03, 7.0892e-01, 3.4260e-01, 1.2932e-01, 1.6669e-01, 8.9545e-01,\n",
            "         8.8185e-02, 7.9118e-01, 6.7066e-01, 7.3426e-01, 3.9492e-01, 7.0190e-01,\n",
            "         5.1937e-01, 8.4555e-01, 1.6115e-01, 6.7183e-01, 2.1230e-01, 4.1502e-01,\n",
            "         3.8704e-01, 1.5522e-01, 9.3727e-01, 5.0828e-01, 2.7400e-01, 8.3327e-01,\n",
            "         4.2527e-01, 2.7966e-01, 9.7554e-01, 4.5639e-01],\n",
            "        [6.6352e-01, 2.5050e-01, 6.0477e-01, 1.9554e-01, 5.9208e-02, 5.3767e-02,\n",
            "         2.2212e-01, 2.8635e-01, 7.0292e-01, 5.2659e-01, 8.3339e-02, 3.2155e-01,\n",
            "         4.1902e-01, 4.6004e-02, 6.8214e-01, 4.1896e-01, 4.8979e-01, 7.8884e-01,\n",
            "         6.6228e-01, 3.2144e-01, 4.8516e-01, 9.1179e-01, 1.0331e-01, 3.2061e-01,\n",
            "         9.0277e-01, 8.5668e-01, 8.6160e-01, 4.3033e-01],\n",
            "        [3.4429e-01, 9.6941e-01, 1.4306e-02, 5.7675e-01, 8.9240e-01, 8.7737e-01,\n",
            "         1.3740e-01, 9.3839e-01, 6.6809e-01, 9.1802e-01, 1.3114e-01, 8.8412e-01,\n",
            "         3.0821e-01, 9.1422e-01, 1.4778e-01, 1.6935e-01, 7.2603e-01, 5.9251e-02,\n",
            "         8.6948e-01, 5.3611e-01, 1.9928e-01, 1.7873e-01, 8.8501e-01, 2.1588e-01,\n",
            "         6.4111e-01, 6.4054e-01, 5.9263e-01, 8.3908e-01],\n",
            "        [8.5549e-01, 4.9833e-01, 6.5474e-01, 6.2160e-01, 1.9308e-02, 8.9407e-01,\n",
            "         8.5068e-01, 8.8928e-01, 5.2505e-01, 1.6679e-01, 6.0910e-01, 3.4038e-02,\n",
            "         3.8038e-01, 7.3371e-01, 5.0015e-01, 3.6628e-01, 2.3392e-01, 6.3706e-01,\n",
            "         9.2532e-01, 2.2179e-01, 4.9682e-01, 7.6819e-01, 8.6911e-02, 9.1582e-02,\n",
            "         7.3654e-01, 6.5709e-01, 8.6655e-01, 2.0993e-01]])\n"
          ]
        }
      ]
    },
    {
      "cell_type": "code",
      "source": [
        "output = net(X.view(-1,784))"
      ],
      "metadata": {
        "id": "OXdsOqLh18Ds"
      },
      "execution_count": null,
      "outputs": []
    },
    {
      "cell_type": "code",
      "source": [
        "print(output)"
      ],
      "metadata": {
        "colab": {
          "base_uri": "https://localhost:8080/"
        },
        "id": "OKakONJa2Bgv",
        "outputId": "08768151-4551-4458-b611-29df05cbd8e1"
      },
      "execution_count": null,
      "outputs": [
        {
          "output_type": "stream",
          "name": "stdout",
          "text": [
            "tensor([[-2.2371, -2.4211, -2.3469, -2.2518, -2.1437, -2.4700, -2.4066, -2.1601,\n",
            "         -2.2492, -2.3988]], grad_fn=<LogSoftmaxBackward0>)\n"
          ]
        }
      ]
    },
    {
      "cell_type": "markdown",
      "source": [
        "Loss is How far the predicted value from actual value\n",
        "Optimiser - optimise and adjust the weights for Neural nets so that the loss is minimum"
      ],
      "metadata": {
        "id": "uYUpD7CeGWOk"
      }
    },
    {
      "cell_type": "markdown",
      "source": [
        "Learning rate define step size\n",
        "step size = slope*learnig rate"
      ],
      "metadata": {
        "id": "FYiw8HLzHLIp"
      }
    },
    {
      "cell_type": "code",
      "source": [
        "import torch.optim as optim\n",
        "\n",
        "optimizer = optim.Adam(net.parameters(), lr=0.001) # lr is learning rate\n",
        "EPOCHS = 3\n",
        "\n",
        "for epoch in range(EPOCHS):\n",
        "  for data in trainset:\n",
        "    # data is batch of featuresets labels, if you train in batches the trainig time is faster\n",
        "    X, y = data\n",
        "    net.zero_grad() #bcause we are batching we need to zero the gradient\n",
        "    output = net(X.view(-1, 28*28))\n",
        "    loss = F.nll_loss(output, y)#when data is scaler like we want a digit as input use nll_loss, if data was one hot vector use MSE\n",
        "    loss.backward() #doing backpropagation\n",
        "    optimizer.step() #this will adjust the weights\n",
        "  print(loss)"
      ],
      "metadata": {
        "id": "nrmg-3Ei2D3Y",
        "colab": {
          "base_uri": "https://localhost:8080/"
        },
        "outputId": "317ef23a-3a5a-4dc0-90b7-f87b5151beb2"
      },
      "execution_count": 29,
      "outputs": [
        {
          "output_type": "stream",
          "name": "stdout",
          "text": [
            "tensor(0.1300, grad_fn=<NllLossBackward0>)\n",
            "tensor(0.1505, grad_fn=<NllLossBackward0>)\n",
            "tensor(0.0526, grad_fn=<NllLossBackward0>)\n"
          ]
        }
      ]
    },
    {
      "cell_type": "code",
      "source": [
        "correct =0\n",
        "total =0\n",
        "\n",
        "with torch.no_grad(): # here we just wan to evaluate the data so need to optimise the gradient\n",
        "  for data in trainset:\n",
        "    X, y = data\n",
        "    output = net(X.view(-1, 784)) #28*28 = 784\n",
        "    for idx, i in enumerate(output):\n",
        "      if torch.argmax(i) == y[idx]:\n",
        "        correct +=1\n",
        "      total +=1\n",
        "\n",
        "print(\"Accuracy: \", round(correct/total, 3))"
      ],
      "metadata": {
        "colab": {
          "base_uri": "https://localhost:8080/"
        },
        "id": "0dsEKnbYHFUQ",
        "outputId": "8bd7bc3f-3337-468c-bc0f-45fab0864f13"
      },
      "execution_count": 30,
      "outputs": [
        {
          "output_type": "stream",
          "name": "stdout",
          "text": [
            "Accuracy:  0.978\n"
          ]
        }
      ]
    },
    {
      "cell_type": "code",
      "source": [
        "import matplotlib.pyplot as plt\n",
        "\n",
        "plt.imshow(X[0].view(28,28))\n",
        "plt.show()\n",
        "print(torch.argmax(net(X[0].view(-1,784))[0]))"
      ],
      "metadata": {
        "colab": {
          "base_uri": "https://localhost:8080/",
          "height": 447
        },
        "id": "qLRGYD2EOkLL",
        "outputId": "483c1cad-1d41-45d6-e01c-d17c64056beb"
      },
      "execution_count": 31,
      "outputs": [
        {
          "output_type": "display_data",
          "data": {
            "text/plain": [
              "<Figure size 640x480 with 1 Axes>"
            ],
            "image/png": "[encoded data removed]"
          },
          "metadata": {}
        },
        {
          "output_type": "stream",
          "name": "stdout",
          "text": [
            "tensor(1)\n"
          ]
        }
      ]
    },
    {
      "cell_type": "code",
      "source": [
        "print(torch.argmax(net(X[0].view(-1,784))[0]))"
      ],
      "metadata": {
        "colab": {
          "base_uri": "https://localhost:8080/"
        },
        "id": "wa9_oQXFPEVs",
        "outputId": "338b7c36-cd0c-4d7f-cd2e-ec05284ad45a"
      },
      "execution_count": 32,
      "outputs": [
        {
          "output_type": "stream",
          "name": "stdout",
          "text": [
            "tensor(1)\n"
          ]
        }
      ]
    },
    {
      "cell_type": "code",
      "source": [
        "plt.imshow(X[1].view(28,28))\n",
        "plt.show()\n",
        "print(torch.argmax(net(X[1].view(-1,784))[0]))"
      ],
      "metadata": {
        "colab": {
          "base_uri": "https://localhost:8080/",
          "height": 447
        },
        "id": "tI4YzXBVPK2X",
        "outputId": "aaf83eeb-14eb-4db6-df36-fbc5406bd8b7"
      },
      "execution_count": 33,
      "outputs": [
        {
          "output_type": "display_data",
          "data": {
            "text/plain": [
              "<Figure size 640x480 with 1 Axes>"
            ],
            "image/png": "[encoded data removed]"
          },
          "metadata": {}
        },
        {
          "output_type": "stream",
          "name": "stdout",
          "text": [
            "tensor(0)\n"
          ]
        }
      ]
    },
    {
      "cell_type": "code",
      "source": [
        "print(torch.argmax(net(X[1].view(-1,784))[0]))"
      ],
      "metadata": {
        "colab": {
          "base_uri": "https://localhost:8080/"
        },
        "id": "ByatMUPdPm0h",
        "outputId": "7c384a30-9bb3-4896-dae1-eca6fec3b98b"
      },
      "execution_count": 34,
      "outputs": [
        {
          "output_type": "stream",
          "name": "stdout",
          "text": [
            "tensor(0)\n"
          ]
        }
      ]
    },
    {
      "cell_type": "code",
      "source": [],
      "metadata": {
        "id": "mXVVRqfhPqEA"
      },
      "execution_count": null,
      "outputs": []
    }
  ]
}