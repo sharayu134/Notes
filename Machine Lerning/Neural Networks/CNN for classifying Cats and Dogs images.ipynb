{
  "nbformat": 4,
  "nbformat_minor": 0,
  "metadata": {
    "colab": {
      "provenance": []
    },
    "kernelspec": {
      "name": "python3",
      "display_name": "Python 3"
    },
    "language_info": {
      "name": "python"
    }
  },
  "cells": [
    {
      "cell_type": "markdown",
      "source": [
        "Always try to simplify the data given in neural network !!!"
      ],
      "metadata": {
        "id": "7I9ekQpX0ve9"
      }
    },
    {
      "cell_type": "markdown",
      "source": [
        "So the input is going to be images pf cats and dogs but the images are going to be in various size and shapes so first thing we do is resize them to uniform size so that we can feed to the CNN, so you have many options with m=images you can rezise,pad, crop, flip, rotate etc"
      ],
      "metadata": {
        "id": "sWf0DlEuxyaJ"
      }
    },
    {
      "cell_type": "markdown",
      "source": [
        "Converting an input image to grayscale before feeding it into a Convolutional Neural Network (CNN) is a common preprocessing step done for two main reasons: to **reduce complexity** and to **focus on essential features** when color isn't important.\n",
        "\n",
        "---\n",
        "### Reducing Computational Complexity ⚙️\n",
        "The biggest advantage of using grayscale images is that it makes the CNN model simpler and faster to train.\n",
        "\n",
        "* **Fewer Parameters:** A color image has three channels (Red, Green, Blue - RGB), while a grayscale image has only one channel representing intensity (shades of gray).\n",
        "* **Faster Training:** With only one channel to process instead of three, the number of calculations the network has to perform at each layer is significantly reduced. This means the model will train faster and require less memory and computational power.\n",
        "\n",
        "\n",
        "\n",
        "---\n",
        "### Focusing on Relevant Features\n",
        "For many computer vision tasks, the color of an object is irrelevant and can even be considered \"noise\" that distracts the model. By converting to grayscale, you force the CNN to learn from more fundamental features like **shape, texture, and edges**.\n",
        "\n",
        "* **Good Use Cases:**\n",
        "    * **Character Recognition (OCR):** The shape of a letter is what matters, not its color.\n",
        "    * **Medical Imaging:** In many X-rays or MRI scans, the important information is in the contrast and structure, not color.\n",
        "    * **Some Object Detection:** For identifying the shape of a car or a pedestrian, the outline and texture are often more critical than the specific color.\n",
        "\n",
        "---\n",
        "### When Not to Use Grayscale\n",
        "It's important to remember that this technique is not suitable for every problem. You should **avoid converting to grayscale** when color is a critical feature for classification.\n",
        "\n",
        "* **Bad Use Cases:**\n",
        "    * **Fruit Ripeness Detection:** Distinguishing between a green (unripe) and a red (ripe) apple requires color information.\n",
        "    * **Traffic Light Recognition:** The model must be able to differentiate between red, yellow, and green lights.\n",
        "    * **Flower Species Classification:** The color of the petals is often a key identifier for different types of flowers.\n",
        "\n",
        "In summary, the decision to use grayscale is a strategic choice. If color doesn't add valuable information for your specific problem, converting to grayscale is an effective way to simplify your model, speed up training, and potentially reduce overfitting."
      ],
      "metadata": {
        "id": "LOAJ0QFO0Fj6"
      }
    },
    {
      "cell_type": "code",
      "execution_count": 2,
      "metadata": {
        "id": "i92Y_QC4o5uJ"
      },
      "outputs": [],
      "source": [
        "import os\n",
        "import cv2\n",
        "import numpy as np\n",
        "from tqdm import tqdm\n",
        "\n",
        "REBUILD_DATA = False #Keep True only when make_training_data() to be called\n",
        "\n",
        "# data source https://www.microsoft.com/en-us/download/details.aspx?id=54765\n",
        "\n",
        "class DogsVSCats():\n",
        "  IMG_SIZE = 50\n",
        "  CATS = \"drive/MyDrive/kagglecatsanddogs_5340/PetImages/Cat\"\n",
        "  DOGS = \"drive/MyDrive/kagglecatsanddogs_5340/PetImages/Dog\"\n",
        "  LABELS = {CATS: 0, DOGS: 1}\n",
        "  training_data = []\n",
        "  catcount = 0 #here we have count to check if have class imbalance\n",
        "  dogcount = 0\n",
        "\n",
        "  def make_training_data(self):\n",
        "    for label in self.LABELS:\n",
        "      print(label)\n",
        "      for f in tqdm(os.listdir(label)):\n",
        "        if \"jpg\" in f:\n",
        "          try:\n",
        "            img = cv2.imread(os.path.join(label,f), cv2.IMREAD_GRAYSCALE)\n",
        "            if img is not None:  # Check if image loaded successfully\n",
        "              img = cv2.resize(img, (self.IMG_SIZE, self.IMG_SIZE))\n",
        "              self.training_data.append([np.array(img), np.eye(2)[self.LABELS[label]]]) #n.eye gives array where there are 1s in diagonal and everythings else is 0, you can use it for creating one hot vectors\n",
        "\n",
        "              if label == self.CATS:\n",
        "                self.catcount += 1\n",
        "              elif label == self.DOGS:\n",
        "                self.dogcount += 1\n",
        "          except Exception as e: #some of images are not good so\n",
        "            print(f\"Error processing {f}: {e}\")\n",
        "            pass\n",
        "\n",
        "    # Move shuffle and save outside the loop - should only happen once after all data is collected\n",
        "    np.random.shuffle(self.training_data)\n",
        "\n",
        "    # Convert to numpy arrays with proper structure\n",
        "    X = np.array([item[0] for item in self.training_data])\n",
        "    y = np.array([item[1] for item in self.training_data])\n",
        "\n",
        "    # Save as separate arrays or as a dictionary\n",
        "    # np.save(\"training_idata.npy\", self.training_data, allow_pickle=True)\n",
        "    np.save(\"training_images.npy\", X)\n",
        "    np.save(\"training_labels.npy\", y)\n",
        "\n",
        "    print(\"Cats:\", self.catcount)\n",
        "    print(\"Dogs:\", self.dogcount)\n",
        "    print(f\"Total training samples: {len(self.training_data)}\")\n",
        "    print(f\"Image shape: {X.shape}\")\n",
        "    print(f\"Labels shape: {y.shape}\")\n",
        "\n",
        "if REBUILD_DATA:\n",
        "  dogsvcats = DogsVSCats()\n",
        "  dogsvcats.make_training_data()\n",
        "\n",
        "# Load the training data\n",
        "# X = np.load(\"training_images.npy\")\n",
        "# y = np.load(\"training_labels.npy\")\n",
        "# print(f\"Loaded {len(X)} training samples\")\n",
        "# print(f\"Image shape: {X.shape}\")\n",
        "# print(f\"Labels shape: {y.shape}\")"
      ]
    },
    {
      "cell_type": "code",
      "metadata": {
        "id": "ab034fd0"
      },
      "source": [
        "training_data_i = np.load(\"training_images.npy\", allow_pickle=True)\n",
        "training_data_l = np.load(\"training_labels.npy\", allow_pickle=True)"
      ],
      "execution_count": 3,
      "outputs": []
    },
    {
      "cell_type": "code",
      "source": [
        "import matplotlib.pyplot as plt\n",
        "\n",
        "plt.imshow(training_data_i[0], cmap=\"gray\")\n",
        "plt.show()"
      ],
      "metadata": {
        "colab": {
          "base_uri": "https://localhost:8080/",
          "height": 432
        },
        "id": "vJUY0b024Esn",
        "outputId": "f90c3217-a22e-43d2-cc26-3c5c69176c81"
      },
      "execution_count": 4,
      "outputs": [
        {
          "output_type": "display_data",
          "data": {
            "text/plain": [
              "<Figure size 640x480 with 1 Axes>"
            ],
            "image/png": "[encoded data removed]"
          },
          "metadata": {}
        }
      ]
    },
    {
      "cell_type": "code",
      "source": [
        "training_data_l[0]"
      ],
      "metadata": {
        "colab": {
          "base_uri": "https://localhost:8080/"
        },
        "id": "gBSQqXYIMNyP",
        "outputId": "c79e4b88-29a4-4618-82c9-b638b223172e"
      },
      "execution_count": 5,
      "outputs": [
        {
          "output_type": "execute_result",
          "data": {
            "text/plain": [
              "array([0., 1.])"
            ]
          },
          "metadata": {},
          "execution_count": 5
        }
      ]
    },
    {
      "cell_type": "code",
      "source": [
        "import torch\n",
        "import torch.nn as nn\n",
        "import torch.nn.functional as F\n",
        "\n",
        "class Net(nn.Module):\n",
        "  def __init__(self):\n",
        "    super().__init__()\n",
        "    self.conv1 = nn.Conv2d(1, 32, 5) # number of input channel is 1, number of output is 32, 5 is kernel size (the filter window in convolution)\n",
        "    self.conv2 = nn.Conv2d(32, 64, 5) # the output of above here is input to this one they should match\n",
        "    self.conv3 = nn.Conv2d(64, 128, 5) # at this point you need to have one to two linear CN , these convolutions could come one after another in NN\n",
        "\n",
        "    x = torch.rand(50,50).view(-1,1,50,50)\n",
        "    self._to_linear = None\n",
        "    self.convs(x) #here we are passing randon datapoint to the forward pass to figure out the input numbers required for linear function, see the explaination below\n",
        "\n",
        "    # self.x = nn.Linear(128*2*2, 512) # this came by running the above and printing (x[0].shape) which comes as [128, 2, 2] search for I'm here\n",
        "    # self.y = nn.Linear(512, 2)\n",
        "\n",
        "    self.fc1 = nn.Linear(self._to_linear, 512) #flattening.\n",
        "    self.fc2 = nn.Linear(512, 2) # 512 in, 2 out bc we're doing 2 classes (dog vs cat).\n",
        "\n",
        "  def convs(self, x):\n",
        "    x = F.max_pool2d(F.relu(self.conv1(x)), (2,2))\n",
        "    x = F.max_pool2d(F.relu(self.conv2(x)), (2,2))\n",
        "    x = F.max_pool2d(F.relu(self.conv3(x)), (2,2))\n",
        "\n",
        "    # print(x[0].shape) #I'm here\n",
        "\n",
        "    if self._to_linear is None:\n",
        "      self._to_linear = x[0].shape[0]*x[0].shape[1]*x[0].shape[2] #this is dimention of the linear output we want\n",
        "    return x\n",
        "\n",
        "  def forward(self, x):\n",
        "    x = self.convs(x) # here all the convolutions we pass, basically forward pass\n",
        "    x= x.view(-1, self._to_linear) # then we flatten it with view\n",
        "    x = F.relu(self.fc1(x)) # again fully connected then reLU\n",
        "    x= self.fc2(x)   # again fully connected\n",
        "    return F.softmax(x, dim=1) #dim is for batches, dim=0 → across batches (4 samples) # dim=1 → across classes (3 categories per sample)\n",
        "\n",
        "net = Net()\n",
        "print(net)\n"
      ],
      "metadata": {
        "colab": {
          "base_uri": "https://localhost:8080/"
        },
        "id": "dTCCrv5F3k93",
        "outputId": "93b4cc2a-d294-4410-dbb5-fe0841b0fe41"
      },
      "execution_count": 22,
      "outputs": [
        {
          "output_type": "stream",
          "name": "stdout",
          "text": [
            "Net(\n",
            "  (conv1): Conv2d(1, 32, kernel_size=(5, 5), stride=(1, 1))\n",
            "  (conv2): Conv2d(32, 64, kernel_size=(5, 5), stride=(1, 1))\n",
            "  (conv3): Conv2d(64, 128, kernel_size=(5, 5), stride=(1, 1))\n",
            "  (fc1): Linear(in_features=512, out_features=512, bias=True)\n",
            "  (fc2): Linear(in_features=512, out_features=2, bias=True)\n",
            ")\n"
          ]
        }
      ]
    },
    {
      "cell_type": "markdown",
      "source": [
        "## **What are Channels?**\n",
        "\n",
        "**Channels** represent different \"layers\" or \"features\" of your data:\n",
        "\n",
        "1. **Input Channels**:\n",
        "   - For grayscale images: 1 channel (just intensity values)\n",
        "   - For RGB color images: 3 channels (Red, Green, Blue)\n",
        "   - For other data: could be different feature maps\n",
        "\n",
        "2. **Output Channels**:\n",
        "   - These are the number of different feature detectors/filters the convolutional layer learns\n",
        "   - Each output channel learns to detect different patterns (edges, textures, shapes, etc.)\n",
        "\n",
        "In your code:\n",
        "```python\n",
        "self.conv1 = nn.Conv2d(1, 32, 5)    # 1 input channel → 32 output channels\n",
        "self.conv2 = nn.Conv2d(32, 64, 5)   # 32 input channels → 64 output channels  \n",
        "self.conv3 = nn.Conv2d(64, 128, 5)  # 64 input channels → 128 output channels\n",
        "```\n",
        "\n",
        "## **Why Do You Need Linear Layers?**\n",
        "\n",
        "**Linear layers** (fully connected layers) are needed because:\n",
        "\n",
        "1. **Convolutional layers** extract spatial features but maintain spatial structure\n",
        "2. **Linear layers** make the final classification decision by combining all features\n",
        "3. You need to **flatten** the 2D feature maps into a 1D vector before feeding to linear layers\n",
        "\n",
        "## **How Input/Output Dimensions Are Determined**\n",
        "\n",
        "Your clever approach calculates dimensions dynamically:\n",
        "\n",
        "```python\n",
        "x = torch.rand(50,50).view(-1,1,50,50)  # Create dummy input: [batch, channels, height, width]\n",
        "self._to_linear = None\n",
        "self.convs(x)  # Pass through conv layers to see output size\n",
        "```\n",
        "\n",
        "**The dimension calculation process:**\n",
        "\n",
        "1. **Input**: `[batch, 1, 50, 50]` (grayscale 50×50 images)\n",
        "\n",
        "2. **After conv1 + maxpool**: `[batch, 32, 23, 23]`\n",
        "   - Conv reduces: 50 - 5 + 1 = 46\n",
        "   - Maxpool reduces: 46 / 2 = 23\n",
        "\n",
        "3. **After conv2 + maxpool**: `[batch, 64, 9, 9]`\n",
        "   - Conv reduces: 23 - 5 + 1 = 19  \n",
        "   - Maxpool reduces: 19 / 2 = 9 (rounded down)\n",
        "\n",
        "4. **After conv3 + maxpool**: `[batch, 128, 2, 2]`\n",
        "   - Conv reduces: 9 - 5 + 1 = 5\n",
        "   - Maxpool reduces: 5 / 2 = 2 (rounded down)\n",
        "\n",
        "5. **Flattening**: 128 × 2 × 2 = 512 features\n",
        "\n",
        "That's why you have:\n",
        "```python\n",
        "self.x = nn.Linear(128*2*2, 512)  # 512 input features → 512 hidden units\n",
        "self.y = nn.Linear(512, 2)        # 512 hidden units → 2 output classes\n",
        "```\n"
      ],
      "metadata": {
        "id": "FsOdhAkaDAPk"
      }
    },
    {
      "cell_type": "code",
      "source": [
        "import torch.optim as optim\n",
        "\n",
        "optimizer = optim.Adam(net.parameters(), lr=0.0001)\n",
        "loss_function = nn.MSELoss() #Mean Squared Error\n",
        "\n",
        "training_data_i = np.load(\"training_images.npy\", allow_pickle=True)\n",
        "training_data_l = np.load(\"training_labels.npy\", allow_pickle=True)\n",
        "\n",
        "X = torch.Tensor(training_data_i).view(-1, 50, 50) #flatten array\n",
        "X= X/255.0 # scaling the imagary, as input is between o to 255 here we are makaing it between 0 to 255\n",
        "y= torch.Tensor(training_data_l)\n",
        "\n",
        "VAL_PCT = 0.1 # training, testing, validation data separation. valaidation percentage\n",
        "Val_size = int(len(X)*VAL_PCT)\n",
        "print(Val_size)\n"
      ],
      "metadata": {
        "id": "N4NybhBOGO87",
        "colab": {
          "base_uri": "https://localhost:8080/"
        },
        "outputId": "68d59c8f-749d-4437-a563-2bb856fa1429"
      },
      "execution_count": 31,
      "outputs": [
        {
          "output_type": "stream",
          "name": "stdout",
          "text": [
            "2502\n"
          ]
        }
      ]
    },
    {
      "cell_type": "code",
      "source": [
        "train_X = X[:-Val_size]\n",
        "train_y = y[:-Val_size]\n",
        "\n",
        "test_X = X[-Val_size:]\n",
        "test_y = y[-Val_size:]\n",
        "\n",
        "print(f\"train size: {len(train_X)}\")\n",
        "print(f\"test size: {len(test_X)}\")"
      ],
      "metadata": {
        "id": "Lir97-Ak--Vb",
        "colab": {
          "base_uri": "https://localhost:8080/"
        },
        "outputId": "8e83e498-f60e-4a8e-9a7d-64a61d5820ce"
      },
      "execution_count": 32,
      "outputs": [
        {
          "output_type": "stream",
          "name": "stdout",
          "text": [
            "train size: 22520\n",
            "test size: 2502\n"
          ]
        }
      ]
    },
    {
      "cell_type": "code",
      "source": [
        "BATCH_SIZE = 100 #If you are hitting memory you can definitely try batch size, if the batch size less than 8 doesn't work the start twiking model itself\n",
        "EPOCHS = 5\n",
        "\n",
        "for epoch in range(EPOCHS):\n",
        "  for i in tqdm(range(0, len(train_X), BATCH_SIZE)):\n",
        "    #print(i)\n",
        "    #print(i+BATCH_SIZE)\n",
        "    batch_X = train_X[i:i+BATCH_SIZE].view(-1, 1, 50, 50) #view flattens\n",
        "    batch_y = train_y[i:i+BATCH_SIZE]\n",
        "\n",
        "    net.zero_grad #reset the gradients of the model's parameters to zero. This is a crucial step before calculating gradients for the current batch of data during the training process.\n",
        "    outputs = net(batch_X)\n",
        "    loss = loss_function(outputs, batch_y)\n",
        "    loss.backward()\n",
        "    optimizer.step()\n",
        "  print(f\"Epoch: {epoch}. Loss: {loss}\") # If loss decreasing per epoch then we are learning something\n",
        "\n",
        "print(loss)\n",
        "\n"
      ],
      "metadata": {
        "id": "TXRPvMZbnxr1",
        "colab": {
          "base_uri": "https://localhost:8080/"
        },
        "outputId": "d63c7ec0-919f-4b3c-8a8b-4ba5761d6c08"
      },
      "execution_count": 33,
      "outputs": [
        {
          "output_type": "stream",
          "name": "stderr",
          "text": [
            "100%|██████████| 226/226 [01:42<00:00,  2.21it/s]\n",
            "100%|██████████| 226/226 [01:49<00:00,  2.05it/s]\n",
            "100%|██████████| 226/226 [01:41<00:00,  2.22it/s]\n",
            "100%|██████████| 226/226 [01:40<00:00,  2.24it/s]\n",
            "100%|██████████| 226/226 [01:48<00:00,  2.09it/s]"
          ]
        },
        {
          "output_type": "stream",
          "name": "stdout",
          "text": [
            "tensor(0.5230, grad_fn=<MseLossBackward0>)\n"
          ]
        },
        {
          "output_type": "stream",
          "name": "stderr",
          "text": [
            "\n"
          ]
        }
      ]
    },
    {
      "cell_type": "code",
      "source": [
        "correct = 0\n",
        "total = 0\n",
        "with torch.no_grad(): # you can use eval and train from model as well\n",
        "  for i in tqdm(range(len(test_X))):\n",
        "    real_class = torch.argmax(test_y[i])\n",
        "    net_out = net(test_X[i].view(-1, 1, 50, 50))[0]\n",
        "    predicted_class = torch.argmax(net_out)\n",
        "\n",
        "    if predicted_class == real_class:\n",
        "      correct += 1\n",
        "    total += 1\n",
        "print(correct)\n",
        "print(\"Accuracy: \", round(correct/total, 3))"
      ],
      "metadata": {
        "colab": {
          "base_uri": "https://localhost:8080/"
        },
        "id": "mBuHWO0Wa3xF",
        "outputId": "651f5641-1e02-4339-9bd4-c74ac4f22001"
      },
      "execution_count": 30,
      "outputs": [
        {
          "output_type": "stream",
          "name": "stderr",
          "text": [
            "100%|██████████| 2502/2502 [00:05<00:00, 452.17it/s]"
          ]
        },
        {
          "output_type": "stream",
          "name": "stdout",
          "text": [
            "1270\n",
            "Accuracy:  0.508\n"
          ]
        },
        {
          "output_type": "stream",
          "name": "stderr",
          "text": [
            "\n"
          ]
        }
      ]
    },
    {
      "cell_type": "markdown",
      "source": [
        "the accuracy is 50.8% how can I improve further\n",
        "\n",
        "\n",
        "Improving model accuracy can involve several strategies. Here's a plan to explore some common techniques:\n",
        "\n",
        "* Increase epochs: Train the model for more epochs to allow it more time to learn from the data. (I changed from 1 to 5 but it did not affect accuracy)\n",
        "* Adjust learning rate: Experiment with a different learning rate for the optimizer. A smaller learning rate might lead to better convergence, while a larger one could speed up training but risk overshooting the minimum.(tried with 0.001, 0.01 then now 0.0001 not changed  0.508)\n",
        "* Modify model architecture:\n",
        "Add more layers (convolutional or linear) to potentially capture more complex features.\n",
        "Change the kernel size or number of filters in the convolutional layers.\n",
        "Add dropout layers to reduce overfitting.\n",
        "* Change loss function: While MSELoss can work for classification, using a loss function more suited for classification like Cross-Entropy Loss is generally recommended.\n",
        "* Data augmentation: Implement data augmentation techniques (e.g., random flips, rotations, zooms) to increase the size and variability of the training data, which can improve generalization.\n",
        "* Batch size tuning: Experiment with different batch sizes.\n",
        "* Check data preprocessing: Revisit the data loading and preprocessing steps to ensure they are optimal.\n",
        "* Regularization: Add L1 or L2 regularization to the model to prevent overfitting.\n",
        "* Advanced optimization: Consider using more advanced optimizers like AdamW or RMSprop.\n",
        "* Transfer learning: For image tasks, using a pre-trained model on a large dataset like ImageNet and fine-tuning it on your specific task can significantly boost performance.\n",
        "* Finish task: Summarize the improvements made and the final accuracy achieved.\n",
        "\n"
      ],
      "metadata": {
        "id": "0cdB1BdzduCk"
      }
    },
    {
      "cell_type": "markdown",
      "source": [
        "what is Regularization:\n",
        "\n",
        "\n",
        "Add L1 or L2 regularization to the model to prevent overfitting.\n",
        "L1 and L2 regularization are techniques used in machine learning to prevent overfitting. Here's a breakdown:\n",
        "\n",
        "* Overfitting: This happens when a model learns the training data too well, including the noise and outliers. As a result, the model performs poorly on new, unseen data.\n",
        "* Regularization: These techniques add a penalty to the loss function based on the magnitude of the model's weights. This encourages the model to use smaller weights, which generally leads to simpler models that are less prone to overfitting.\n",
        "Here's how L1 and L2 regularization differ:\n",
        "\n",
        "* L1 Regularization (Lasso Regression): Adds a penalty proportional to the absolute value of the weights ($\\sum |w|$$\\sum |w|$). This can lead to some weights becoming exactly zero, effectively performing feature selection.\n",
        "* L2 Regularization (Ridge Regression): Adds a penalty proportional to the square of the weights ($\\sum w^2$$\\sum w^2$). This encourages weights to be small but rarely exactly zero. It tends to shrink all weights proportionally.\n",
        "In the context of your neural network, adding L1 or L2 regularization would involve modifying the loss function to include a term that penalizes large weights in the convolutional and linear layers. This would help prevent the network from becoming too complex and overfitting to the training data."
      ],
      "metadata": {
        "id": "DtzMeHVZfUz3"
      }
    },
    {
      "cell_type": "code",
      "source": [
        "np.eye(10)"
      ],
      "metadata": {
        "colab": {
          "base_uri": "https://localhost:8080/"
        },
        "id": "xeSMEJ20wHrt",
        "outputId": "abb393aa-76e6-4325-94e3-992d5a0e3de3"
      },
      "execution_count": 7,
      "outputs": [
        {
          "output_type": "execute_result",
          "data": {
            "text/plain": [
              "array([[1., 0., 0., 0., 0., 0., 0., 0., 0., 0.],\n",
              "       [0., 1., 0., 0., 0., 0., 0., 0., 0., 0.],\n",
              "       [0., 0., 1., 0., 0., 0., 0., 0., 0., 0.],\n",
              "       [0., 0., 0., 1., 0., 0., 0., 0., 0., 0.],\n",
              "       [0., 0., 0., 0., 1., 0., 0., 0., 0., 0.],\n",
              "       [0., 0., 0., 0., 0., 1., 0., 0., 0., 0.],\n",
              "       [0., 0., 0., 0., 0., 0., 1., 0., 0., 0.],\n",
              "       [0., 0., 0., 0., 0., 0., 0., 1., 0., 0.],\n",
              "       [0., 0., 0., 0., 0., 0., 0., 0., 1., 0.],\n",
              "       [0., 0., 0., 0., 0., 0., 0., 0., 0., 1.]])"
            ]
          },
          "metadata": {},
          "execution_count": 7
        }
      ]
    },
    {
      "cell_type": "code",
      "source": [
        "np.eye(10)[7]"
      ],
      "metadata": {
        "colab": {
          "base_uri": "https://localhost:8080/"
        },
        "id": "TLN0e7V91_-y",
        "outputId": "ace9dab7-c051-43d9-9cec-f7254d89f41d"
      },
      "execution_count": null,
      "outputs": [
        {
          "output_type": "execute_result",
          "data": {
            "text/plain": [
              "array([0., 0., 0., 0., 0., 0., 0., 1., 0., 0.])"
            ]
          },
          "metadata": {},
          "execution_count": 3
        }
      ]
    }
  ]
}
