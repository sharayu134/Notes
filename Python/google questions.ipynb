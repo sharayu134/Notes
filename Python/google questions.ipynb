{
 "cells": [
  {
   "cell_type": "code",
   "execution_count": 59,
   "id": "75dc2350-a384-4c51-b760-f45794ca9154",
   "metadata": {},
   "outputs": [],
   "source": [
    "def get_sym_mat(mat, n):\n",
    "    res = 0\n",
    "    m = len(mat)\n",
    "\n",
    "    def is_sym(grd):\n",
    "        for c in range(n):\n",
    "            for d in range(c+1, n):\n",
    "                if grd[c][d] != grd[d][c]:\n",
    "                    return False\n",
    "        return True\n",
    "            \n",
    "    for k in range(0, m-n+1):\n",
    "        for l in range(0,m-n+1):\n",
    "            slc = []\n",
    "            for a in range(k,n+k):\n",
    "                    ck = mat[a][l:l+n]\n",
    "                    slc.append(ck)\n",
    "            if is_sym(slc):\n",
    "                res += 1 \n",
    "\n",
    "    return res"
   ]
  },
  {
   "cell_type": "code",
   "execution_count": 60,
   "id": "6457a0f8-bc26-47d7-8708-0a04dd8f424f",
   "metadata": {},
   "outputs": [
    {
     "name": "stdout",
     "output_type": "stream",
     "text": [
      "3\n"
     ]
    }
   ],
   "source": [
    "mat = [[2 ,1 ,4, 4],[ 1, 0, 3, 5], [4, 3 ,4, 6],[2, 4, 5, 6]]\n",
    "print(get_sym_mat(mat,2))\n"
   ]
  },
  {
   "cell_type": "code",
   "execution_count": 4,
   "id": "a5aa6f28-6b3e-4a8d-94f7-9891e6884ac2",
   "metadata": {},
   "outputs": [],
   "source": [
    "def del_node(tree, dell):\n",
    "    res = []\n",
    "    pr = []\n",
    "\n",
    "    if tree[0] not in dell:\n",
    "        pr.append(0)\n",
    "\n",
    "    for i in range(0, len(tree)):\n",
    "        if tree[i] in dell:\n",
    "            tree[i] = None\n",
    "            li = 2*i+1\n",
    "            ri = 2*i+2\n",
    "            if li < len(tree) and tree[li] != None:\n",
    "                pr.append(li)\n",
    "            if ri < len(tree) and tree[ri] != None:\n",
    "                pr.append(ri)\n",
    "\n",
    "    def build(oi, ot):\n",
    "        ls = [oi]\n",
    "        nt = [] \n",
    "        while len(ls)>0:\n",
    "            r = ls.pop(0)\n",
    "            if ot[r] != None:\n",
    "                nt.append(ot[r])\n",
    "                if 2*r+1 < len(ot):\n",
    "                    ls.append(2*r+1)\n",
    "                if 2*r+2 < len(ot):\n",
    "                    ls.append(2*r+2)\n",
    "        return nt\n",
    "\n",
    "    for p in pr:\n",
    "        nt = build(p,tree)\n",
    "        res.append(nt)\n",
    "\n",
    "    return res"
   ]
  },
  {
   "cell_type": "code",
   "execution_count": 5,
   "id": "254338d7-af2c-4cae-91eb-6c2547cf0d7b",
   "metadata": {},
   "outputs": [
    {
     "name": "stdout",
     "output_type": "stream",
     "text": [
      "[[1, 2, 4], [6], [7]]\n"
     ]
    }
   ],
   "source": [
    "tree = [1,2,3,4,5,6,7]\n",
    "to_delete = [3,5]\n",
    "print(del_node(tree, to_delete))\n"
   ]
  },
  {
   "cell_type": "code",
   "execution_count": 6,
   "id": "71793f46-f1c3-4108-a677-56edf449f369",
   "metadata": {},
   "outputs": [],
   "source": [
    "ar  = [[1,8],[3,6],[4,8],[5,7],[5,5]]"
   ]
  },
  {
   "cell_type": "raw",
   "id": "6ae94fb7-584f-4d82-be98-1a75a4bc53d5",
   "metadata": {},
   "source": [
    "ar.sort()"
   ]
  },
  {
   "cell_type": "code",
   "execution_count": 7,
   "id": "3fb79290-14a6-4cb3-a775-736916cd0c25",
   "metadata": {},
   "outputs": [
    {
     "name": "stdout",
     "output_type": "stream",
     "text": [
      "[[1, 8], [3, 6], [4, 8], [5, 7], [5, 5]]\n"
     ]
    }
   ],
   "source": [
    "print(ar)"
   ]
  },
  {
   "cell_type": "code",
   "execution_count": 8,
   "id": "99102cd6-6413-4047-8555-ed32debb81f2",
   "metadata": {},
   "outputs": [],
   "source": [
    "ar.sort(reverse=True)"
   ]
  },
  {
   "cell_type": "code",
   "execution_count": 9,
   "id": "59f2c503-e54f-4c3a-8b8e-7833f202f9dd",
   "metadata": {},
   "outputs": [
    {
     "data": {
      "text/plain": [
       "[[5, 7], [5, 5], [4, 8], [3, 6], [1, 8]]"
      ]
     },
     "execution_count": 9,
     "metadata": {},
     "output_type": "execute_result"
    }
   ],
   "source": [
    "ar"
   ]
  },
  {
   "cell_type": "code",
   "execution_count": 10,
   "id": "255b0101-26ae-4f26-9ae9-1ae6859a213c",
   "metadata": {},
   "outputs": [],
   "source": [
    "ar.sort(key=lambda x:x[0])"
   ]
  },
  {
   "cell_type": "code",
   "execution_count": 11,
   "id": "2b5325d8-8672-4071-9d77-67b27ac484a0",
   "metadata": {},
   "outputs": [
    {
     "data": {
      "text/plain": [
       "[[1, 8], [3, 6], [4, 8], [5, 7], [5, 5]]"
      ]
     },
     "execution_count": 11,
     "metadata": {},
     "output_type": "execute_result"
    }
   ],
   "source": [
    "ar"
   ]
  },
  {
   "cell_type": "code",
   "execution_count": 15,
   "id": "899e9b64-70be-4bad-b21a-917910aa0054",
   "metadata": {},
   "outputs": [],
   "source": [
    "ar.sort(key=lambda x:x[1])"
   ]
  },
  {
   "cell_type": "code",
   "execution_count": 16,
   "id": "0403efed-797d-4270-a4d7-d09c0b0683fc",
   "metadata": {},
   "outputs": [
    {
     "data": {
      "text/plain": [
       "[[5, 5], [3, 6], [5, 7], [1, 8], [4, 8]]"
      ]
     },
     "execution_count": 16,
     "metadata": {},
     "output_type": "execute_result"
    }
   ],
   "source": [
    "ar"
   ]
  },
  {
   "cell_type": "code",
   "execution_count": 18,
   "id": "ae9a7b35-4c94-4a8d-b85a-d6690e49dd77",
   "metadata": {},
   "outputs": [],
   "source": [
    "ar.sort(key=lambda x:(x[1], x[0]))"
   ]
  },
  {
   "cell_type": "code",
   "execution_count": 19,
   "id": "d4fc3331-fdae-461d-8bec-86a633a2bac8",
   "metadata": {},
   "outputs": [
    {
     "data": {
      "text/plain": [
       "[[5, 5], [3, 6], [5, 7], [1, 8], [4, 8]]"
      ]
     },
     "execution_count": 19,
     "metadata": {},
     "output_type": "execute_result"
    }
   ],
   "source": [
    "ar"
   ]
  },
  {
   "cell_type": "code",
   "execution_count": 20,
   "id": "1fd6398d-6fe9-4fc3-a774-39c00a419d90",
   "metadata": {},
   "outputs": [],
   "source": [
    "ar.sort(key=lambda x:(x[1], -x[0]))"
   ]
  },
  {
   "cell_type": "code",
   "execution_count": 21,
   "id": "55fe7bda-9086-4bdc-bd0d-970ff9936ce7",
   "metadata": {},
   "outputs": [
    {
     "data": {
      "text/plain": [
       "[[5, 5], [3, 6], [5, 7], [4, 8], [1, 8]]"
      ]
     },
     "execution_count": 21,
     "metadata": {},
     "output_type": "execute_result"
    }
   ],
   "source": [
    "ar"
   ]
  },
  {
   "cell_type": "code",
   "execution_count": null,
   "id": "317c03a9-21ec-405b-8264-d8ffd49750ce",
   "metadata": {},
   "outputs": [],
   "source": []
  }
 ],
 "metadata": {
  "kernelspec": {
   "display_name": "Python 3 (ipykernel)",
   "language": "python",
   "name": "python3"
  },
  "language_info": {
   "codemirror_mode": {
    "name": "ipython",
    "version": 3
   },
   "file_extension": ".py",
   "mimetype": "text/x-python",
   "name": "python",
   "nbconvert_exporter": "python",
   "pygments_lexer": "ipython3",
   "version": "3.12.4"
  }
 },
 "nbformat": 4,
 "nbformat_minor": 5
}
