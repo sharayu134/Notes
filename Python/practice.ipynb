{
 "cells": [
  {
   "cell_type": "code",
   "execution_count": 1,
   "id": "042fc704-36f3-47fe-b60c-fcc5de49042a",
   "metadata": {},
   "outputs": [
    {
     "data": {
      "text/plain": [
       "8"
      ]
     },
     "execution_count": 1,
     "metadata": {},
     "output_type": "execute_result"
    }
   ],
   "source": [
    "2**3"
   ]
  },
  {
   "cell_type": "code",
   "execution_count": 2,
   "id": "a64fab7d-da29-42e8-8348-1159bd9d1772",
   "metadata": {},
   "outputs": [
    {
     "data": {
      "text/plain": [
       "2"
      ]
     },
     "execution_count": 2,
     "metadata": {},
     "output_type": "execute_result"
    }
   ],
   "source": [
    "22%10"
   ]
  },
  {
   "cell_type": "code",
   "execution_count": 3,
   "id": "1b317b05-d4ed-4ef6-bd0f-ed8f07e85920",
   "metadata": {},
   "outputs": [
    {
     "data": {
      "text/plain": [
       "0"
      ]
     },
     "execution_count": 3,
     "metadata": {},
     "output_type": "execute_result"
    }
   ],
   "source": [
    "20%10"
   ]
  },
  {
   "cell_type": "code",
   "execution_count": 4,
   "id": "39c7bc04-2a46-45d0-87da-e72179fbb6ee",
   "metadata": {},
   "outputs": [],
   "source": [
    "ny_num =0"
   ]
  },
  {
   "cell_type": "code",
   "execution_count": 5,
   "id": "a02c8aee-054c-417f-8428-0640b5ac016d",
   "metadata": {},
   "outputs": [
    {
     "data": {
      "text/plain": [
       "0"
      ]
     },
     "execution_count": 5,
     "metadata": {},
     "output_type": "execute_result"
    }
   ],
   "source": [
    "ny_num"
   ]
  },
  {
   "cell_type": "code",
   "execution_count": 6,
   "id": "2f95a9c2-d998-4176-a120-34091f07dc00",
   "metadata": {},
   "outputs": [
    {
     "data": {
      "text/plain": [
       "int"
      ]
     },
     "execution_count": 6,
     "metadata": {},
     "output_type": "execute_result"
    }
   ],
   "source": [
    "type(ny_num)"
   ]
  },
  {
   "cell_type": "code",
   "execution_count": 7,
   "id": "1f1053d6-223e-449a-b716-69ae7c89b304",
   "metadata": {},
   "outputs": [],
   "source": [
    " ny_num=\"hejgfhghgllo\""
   ]
  },
  {
   "cell_type": "code",
   "execution_count": 8,
   "id": "59e5cd75-9b7a-4a1d-aa03-bd831198651c",
   "metadata": {},
   "outputs": [
    {
     "data": {
      "text/plain": [
       "str"
      ]
     },
     "execution_count": 8,
     "metadata": {},
     "output_type": "execute_result"
    }
   ],
   "source": [
    "type(ny_num)"
   ]
  },
  {
   "cell_type": "code",
   "execution_count": 9,
   "id": "f3424d3b-ec38-4f54-ba64-e9e134e73f12",
   "metadata": {},
   "outputs": [
    {
     "data": {
      "text/plain": [
       "'h'"
      ]
     },
     "execution_count": 9,
     "metadata": {},
     "output_type": "execute_result"
    }
   ],
   "source": [
    "ny_num[-5]"
   ]
  },
  {
   "cell_type": "code",
   "execution_count": 10,
   "id": "c5cb0898-a4e7-4f09-a1d8-b3475d400a79",
   "metadata": {},
   "outputs": [
    {
     "data": {
      "text/plain": [
       "'hejgfhghgllo'"
      ]
     },
     "execution_count": 10,
     "metadata": {},
     "output_type": "execute_result"
    }
   ],
   "source": [
    "ny_num"
   ]
  },
  {
   "cell_type": "code",
   "execution_count": 11,
   "id": "a3ae9a3e-a1ee-4ce8-8d32-9ab2e7148eaf",
   "metadata": {},
   "outputs": [
    {
     "data": {
      "text/plain": [
       "'hjfggl'"
      ]
     },
     "execution_count": 11,
     "metadata": {},
     "output_type": "execute_result"
    }
   ],
   "source": [
    "ny_num[0:11:2]"
   ]
  },
  {
   "cell_type": "code",
   "execution_count": 12,
   "id": "269e4457-169e-443d-94e0-ef86a435dc20",
   "metadata": {},
   "outputs": [
    {
     "data": {
      "text/plain": [
       "12"
      ]
     },
     "execution_count": 12,
     "metadata": {},
     "output_type": "execute_result"
    }
   ],
   "source": [
    "len(ny_num)"
   ]
  },
  {
   "cell_type": "code",
   "execution_count": 13,
   "id": "1091dd06-c475-4a01-ba93-699da631f211",
   "metadata": {},
   "outputs": [
    {
     "data": {
      "text/plain": [
       "'he'"
      ]
     },
     "execution_count": 13,
     "metadata": {},
     "output_type": "execute_result"
    }
   ],
   "source": [
    "ny_num[:2]"
   ]
  },
  {
   "cell_type": "code",
   "execution_count": 14,
   "id": "b55ed0b8-4f8b-4d10-9594-e19a5452216d",
   "metadata": {},
   "outputs": [
    {
     "data": {
      "text/plain": [
       "'hjfggl'"
      ]
     },
     "execution_count": 14,
     "metadata": {},
     "output_type": "execute_result"
    }
   ],
   "source": [
    "ny_num[::2]"
   ]
  },
  {
   "cell_type": "code",
   "execution_count": 15,
   "id": "1cb684af-d2c9-446c-8a42-b31d856117fe",
   "metadata": {},
   "outputs": [
    {
     "ename": "NameError",
     "evalue": "name 'k' is not defined",
     "output_type": "error",
     "traceback": [
      "\u001b[0;31m---------------------------------------------------------------------------\u001b[0m",
      "\u001b[0;31mNameError\u001b[0m                                 Traceback (most recent call last)",
      "Cell \u001b[0;32mIn[15], line 1\u001b[0m\n\u001b[0;32m----> 1\u001b[0m ny_num[\u001b[38;5;241m0\u001b[39m]\u001b[38;5;241m=\u001b[39m\u001b[43mk\u001b[49m\n",
      "\u001b[0;31mNameError\u001b[0m: name 'k' is not defined"
     ]
    }
   ],
   "source": [
    "ny_num[0]=k"
   ]
  },
  {
   "cell_type": "code",
   "execution_count": 16,
   "id": "242b5fc3-aa53-4a70-9f27-3fddc678f03b",
   "metadata": {},
   "outputs": [
    {
     "data": {
      "text/plain": [
       "'zzzzzzzzzz'"
      ]
     },
     "execution_count": 16,
     "metadata": {},
     "output_type": "execute_result"
    }
   ],
   "source": [
    "'z'*10"
   ]
  },
  {
   "cell_type": "code",
   "execution_count": 17,
   "id": "8db53249-ae2f-4f86-b5a6-c9233c3cedc0",
   "metadata": {},
   "outputs": [
    {
     "data": {
      "text/plain": [
       "'HEJGFHGHGLLO'"
      ]
     },
     "execution_count": 17,
     "metadata": {},
     "output_type": "execute_result"
    }
   ],
   "source": [
    "ny_num.upper()"
   ]
  },
  {
   "cell_type": "code",
   "execution_count": 18,
   "id": "ef4c1f62-1b66-46d4-81c3-c3a10e27a410",
   "metadata": {},
   "outputs": [
    {
     "data": {
      "text/plain": [
       "'hejgfhghgllo'"
      ]
     },
     "execution_count": 18,
     "metadata": {},
     "output_type": "execute_result"
    }
   ],
   "source": [
    "ny_num.lower()"
   ]
  },
  {
   "cell_type": "code",
   "execution_count": 19,
   "id": "54e89ea2-4600-4809-8aa5-a17a46ef02e1",
   "metadata": {},
   "outputs": [],
   "source": [
    "ny_num=\"the sun is moving\""
   ]
  },
  {
   "cell_type": "code",
   "execution_count": 20,
   "id": "26767d71-0183-45ec-a3c5-e20281a82ebc",
   "metadata": {},
   "outputs": [
    {
     "data": {
      "text/plain": [
       "['the', 'sun', 'is', 'moving']"
      ]
     },
     "execution_count": 20,
     "metadata": {},
     "output_type": "execute_result"
    }
   ],
   "source": [
    "ny_num.split()"
   ]
  },
  {
   "cell_type": "code",
   "execution_count": 21,
   "id": "fee72f31-b907-4b74-b469-9c76e58952d2",
   "metadata": {},
   "outputs": [
    {
     "data": {
      "text/plain": [
       "['the ', 'un i', ' moving']"
      ]
     },
     "execution_count": 21,
     "metadata": {},
     "output_type": "execute_result"
    }
   ],
   "source": [
    "ny_num.split('s')"
   ]
  },
  {
   "cell_type": "code",
   "execution_count": 22,
   "id": "faf8a158-6d6b-43e2-b2f7-3d9ddeccd989",
   "metadata": {},
   "outputs": [
    {
     "ename": "AttributeError",
     "evalue": "'str' object has no attribute 'append'",
     "output_type": "error",
     "traceback": [
      "\u001b[0;31m---------------------------------------------------------------------------\u001b[0m",
      "\u001b[0;31mAttributeError\u001b[0m                            Traceback (most recent call last)",
      "Cell \u001b[0;32mIn[22], line 1\u001b[0m\n\u001b[0;32m----> 1\u001b[0m \u001b[43mny_num\u001b[49m\u001b[38;5;241;43m.\u001b[39;49m\u001b[43mappend\u001b[49m(\u001b[38;5;124m'\u001b[39m\u001b[38;5;124miii\u001b[39m\u001b[38;5;124m'\u001b[39m)\n",
      "\u001b[0;31mAttributeError\u001b[0m: 'str' object has no attribute 'append'"
     ]
    }
   ],
   "source": [
    "ny_num.append('iii')"
   ]
  },
  {
   "cell_type": "code",
   "execution_count": 23,
   "id": "881faabc-ef83-47ec-aee8-b27a82d3d473",
   "metadata": {},
   "outputs": [],
   "source": [
    "ny_num = ['ds','sds']"
   ]
  },
  {
   "cell_type": "code",
   "execution_count": 24,
   "id": "f274c636-943f-4d94-8d98-417e3868588b",
   "metadata": {},
   "outputs": [],
   "source": [
    "ny_num.append('iii')"
   ]
  },
  {
   "cell_type": "code",
   "execution_count": 27,
   "id": "4a0f2d76-bb7a-498d-888d-e28e62fc764a",
   "metadata": {},
   "outputs": [
    {
     "data": {
      "text/plain": [
       "['ds', 'sds']"
      ]
     },
     "execution_count": 27,
     "metadata": {},
     "output_type": "execute_result"
    }
   ],
   "source": [
    "ny_num"
   ]
  },
  {
   "cell_type": "code",
   "execution_count": 26,
   "id": "13affa85-8f99-4fc9-8e90-401960e2682d",
   "metadata": {},
   "outputs": [
    {
     "data": {
      "text/plain": [
       "'iii'"
      ]
     },
     "execution_count": 26,
     "metadata": {},
     "output_type": "execute_result"
    }
   ],
   "source": [
    "ny_num.pop()"
   ]
  },
  {
   "cell_type": "code",
   "execution_count": 28,
   "id": "812721df-0572-49ee-b2cf-bc9f399bfa7e",
   "metadata": {},
   "outputs": [],
   "source": [
    "ny_num.remove('ds')"
   ]
  },
  {
   "cell_type": "code",
   "execution_count": 30,
   "id": "429d085f-f516-4081-afde-6500189c692a",
   "metadata": {},
   "outputs": [],
   "source": [
    "ny_num =['the', 'sun', 'is', 'moving']"
   ]
  },
  {
   "cell_type": "code",
   "execution_count": 31,
   "id": "c6e10bff-8974-4e56-8c10-1563368e4106",
   "metadata": {},
   "outputs": [],
   "source": [
    "ny_num.sort()"
   ]
  },
  {
   "cell_type": "code",
   "execution_count": 32,
   "id": "128329d4-8c8c-47bc-8c81-19a9e1b40def",
   "metadata": {},
   "outputs": [
    {
     "data": {
      "text/plain": [
       "['is', 'moving', 'sun', 'the']"
      ]
     },
     "execution_count": 32,
     "metadata": {},
     "output_type": "execute_result"
    }
   ],
   "source": [
    "ny_num"
   ]
  },
  {
   "cell_type": "code",
   "execution_count": 33,
   "id": "e84ea9bf-7e15-4d6b-ac87-34b288d4822b",
   "metadata": {},
   "outputs": [],
   "source": [
    "ny_num.reverse()"
   ]
  },
  {
   "cell_type": "code",
   "execution_count": 34,
   "id": "9e81ff0a-90d6-4157-a77e-16cb97324b3b",
   "metadata": {},
   "outputs": [
    {
     "data": {
      "text/plain": [
       "['the', 'sun', 'moving', 'is']"
      ]
     },
     "execution_count": 34,
     "metadata": {},
     "output_type": "execute_result"
    }
   ],
   "source": [
    "ny_num"
   ]
  },
  {
   "cell_type": "code",
   "execution_count": 35,
   "id": "57a0392e-c645-4037-aa7a-6994888bc1c7",
   "metadata": {},
   "outputs": [],
   "source": [
    "dic = {'k1':1,'k2':[1,2,3,5],'k3':{'k4':\"sd\"}}"
   ]
  },
  {
   "cell_type": "code",
   "execution_count": 36,
   "id": "2a2f942c-02fc-47a6-ba54-98fde4b6a382",
   "metadata": {},
   "outputs": [
    {
     "data": {
      "text/plain": [
       "dict_keys(['k1', 'k2', 'k3'])"
      ]
     },
     "execution_count": 36,
     "metadata": {},
     "output_type": "execute_result"
    }
   ],
   "source": [
    "dic.keys()"
   ]
  },
  {
   "cell_type": "code",
   "execution_count": 37,
   "id": "ab052911-482d-492f-92e2-4b91129d5812",
   "metadata": {},
   "outputs": [
    {
     "data": {
      "text/plain": [
       "dict_values([1, [1, 2, 3, 5], {'k4': 'sd'}])"
      ]
     },
     "execution_count": 37,
     "metadata": {},
     "output_type": "execute_result"
    }
   ],
   "source": [
    "dic.values()"
   ]
  },
  {
   "cell_type": "code",
   "execution_count": 38,
   "id": "a8852a9b-a376-4331-926f-382cda7bed14",
   "metadata": {},
   "outputs": [
    {
     "data": {
      "text/plain": [
       "dict_items([('k1', 1), ('k2', [1, 2, 3, 5]), ('k3', {'k4': 'sd'})])"
      ]
     },
     "execution_count": 38,
     "metadata": {},
     "output_type": "execute_result"
    }
   ],
   "source": [
    "dic.items()"
   ]
  },
  {
   "cell_type": "markdown",
   "id": "416c63de-ddb7-4ca4-9f4c-8bbc61d4dbcf",
   "metadata": {},
   "source": [
    "- gkhkhjm"
   ]
  },
  {
   "cell_type": "code",
   "execution_count": 39,
   "id": "de6c7c61-4393-445a-8cc3-99c5cb856c48",
   "metadata": {},
   "outputs": [],
   "source": [
    "t=(1,2,3,4)"
   ]
  },
  {
   "cell_type": "code",
   "execution_count": 40,
   "id": "f09d9007-4f19-488d-ab64-6306c2df8d84",
   "metadata": {},
   "outputs": [
    {
     "data": {
      "text/plain": [
       "tuple"
      ]
     },
     "execution_count": 40,
     "metadata": {},
     "output_type": "execute_result"
    }
   ],
   "source": [
    "type(t)"
   ]
  },
  {
   "cell_type": "code",
   "execution_count": 41,
   "id": "1ac5e501-d784-4848-9a54-411a29ffbe91",
   "metadata": {},
   "outputs": [
    {
     "data": {
      "text/plain": [
       "1"
      ]
     },
     "execution_count": 41,
     "metadata": {},
     "output_type": "execute_result"
    }
   ],
   "source": [
    "t[0]"
   ]
  },
  {
   "cell_type": "code",
   "execution_count": 42,
   "id": "7f3e077a-9658-4fc9-a352-19b234471f23",
   "metadata": {},
   "outputs": [
    {
     "ename": "TypeError",
     "evalue": "'tuple' object does not support item assignment",
     "output_type": "error",
     "traceback": [
      "\u001b[0;31m---------------------------------------------------------------------------\u001b[0m",
      "\u001b[0;31mTypeError\u001b[0m                                 Traceback (most recent call last)",
      "Cell \u001b[0;32mIn[42], line 1\u001b[0m\n\u001b[0;32m----> 1\u001b[0m \u001b[43mt\u001b[49m\u001b[43m[\u001b[49m\u001b[38;5;241;43m0\u001b[39;49m\u001b[43m]\u001b[49m \u001b[38;5;241m=\u001b[39m \u001b[38;5;241m8\u001b[39m\n",
      "\u001b[0;31mTypeError\u001b[0m: 'tuple' object does not support item assignment"
     ]
    }
   ],
   "source": [
    "t[0] = 8"
   ]
  },
  {
   "cell_type": "code",
   "execution_count": 43,
   "id": "154508e8-ea1d-4828-8bb6-8ecb36ae9300",
   "metadata": {},
   "outputs": [
    {
     "data": {
      "text/plain": [
       "4"
      ]
     },
     "execution_count": 43,
     "metadata": {},
     "output_type": "execute_result"
    }
   ],
   "source": [
    "t[-1]"
   ]
  },
  {
   "cell_type": "code",
   "execution_count": 44,
   "id": "c268177a-fb71-42e6-8c37-55704bc44b8e",
   "metadata": {},
   "outputs": [
    {
     "data": {
      "text/plain": [
       "1"
      ]
     },
     "execution_count": 44,
     "metadata": {},
     "output_type": "execute_result"
    }
   ],
   "source": [
    "t.count(1)"
   ]
  },
  {
   "cell_type": "code",
   "execution_count": 45,
   "id": "561f2340-1c62-4faf-891e-bb27da5c6b7b",
   "metadata": {},
   "outputs": [
    {
     "data": {
      "text/plain": [
       "0"
      ]
     },
     "execution_count": 45,
     "metadata": {},
     "output_type": "execute_result"
    }
   ],
   "source": [
    "t.index(1)"
   ]
  },
  {
   "cell_type": "code",
   "execution_count": 46,
   "id": "b38851d8-251f-4776-8833-5994fe0f0604",
   "metadata": {},
   "outputs": [],
   "source": [
    "settt= set()"
   ]
  },
  {
   "cell_type": "code",
   "execution_count": 51,
   "id": "af60c107-aaa6-4d4e-9311-788028646360",
   "metadata": {},
   "outputs": [],
   "source": [
    "settt.add(1)"
   ]
  },
  {
   "cell_type": "code",
   "execution_count": 53,
   "id": "95d5887c-1611-4344-81c9-9e5218e68f30",
   "metadata": {},
   "outputs": [],
   "source": [
    "settt.add(3)"
   ]
  },
  {
   "cell_type": "code",
   "execution_count": 54,
   "id": "357c6eb7-fce2-4dac-b71c-5480d2b4c62f",
   "metadata": {},
   "outputs": [],
   "source": [
    "settt.add(3)"
   ]
  },
  {
   "cell_type": "code",
   "execution_count": 55,
   "id": "fdda0f86-a5e9-4dd8-b1b3-c9faab547215",
   "metadata": {},
   "outputs": [
    {
     "data": {
      "text/plain": [
       "{1, 3}"
      ]
     },
     "execution_count": 55,
     "metadata": {},
     "output_type": "execute_result"
    }
   ],
   "source": [
    "settt"
   ]
  },
  {
   "cell_type": "code",
   "execution_count": 56,
   "id": "d7f35d5c-e1f0-4820-8570-16e0d32b2f28",
   "metadata": {},
   "outputs": [
    {
     "data": {
      "text/plain": [
       "True"
      ]
     },
     "execution_count": 56,
     "metadata": {},
     "output_type": "execute_result"
    }
   ],
   "source": [
    "True"
   ]
  },
  {
   "cell_type": "code",
   "execution_count": 57,
   "id": "0d25c885-5e4c-4cdf-b839-b9e16b8564c9",
   "metadata": {},
   "outputs": [
    {
     "data": {
      "text/plain": [
       "False"
      ]
     },
     "execution_count": 57,
     "metadata": {},
     "output_type": "execute_result"
    }
   ],
   "source": [
    "False"
   ]
  },
  {
   "cell_type": "code",
   "execution_count": 59,
   "id": "978a503f-a906-41b3-b8d9-2b2911632256",
   "metadata": {},
   "outputs": [
    {
     "data": {
      "text/plain": [
       "True"
      ]
     },
     "execution_count": 59,
     "metadata": {},
     "output_type": "execute_result"
    }
   ],
   "source": [
    "1<2 and 2< 8"
   ]
  },
  {
   "cell_type": "code",
   "execution_count": 60,
   "id": "0ea6d87b-ba4e-456f-8cbc-c6304ce12583",
   "metadata": {},
   "outputs": [
    {
     "data": {
      "text/plain": [
       "True"
      ]
     },
     "execution_count": 60,
     "metadata": {},
     "output_type": "execute_result"
    }
   ],
   "source": [
    "1<2 or 2< 8"
   ]
  },
  {
   "cell_type": "code",
   "execution_count": 61,
   "id": "24b6ae3f-376a-4835-9883-84b45bb534e3",
   "metadata": {},
   "outputs": [
    {
     "data": {
      "text/plain": [
       "False"
      ]
     },
     "execution_count": 61,
     "metadata": {},
     "output_type": "execute_result"
    }
   ],
   "source": [
    "not(1==1)"
   ]
  },
  {
   "cell_type": "code",
   "execution_count": 62,
   "id": "d76fff4a-9199-45b2-8950-1b76c2e408d6",
   "metadata": {},
   "outputs": [
    {
     "data": {
      "text/plain": [
       "False"
      ]
     },
     "execution_count": 62,
     "metadata": {},
     "output_type": "execute_result"
    }
   ],
   "source": [
    "1!=1"
   ]
  },
  {
   "cell_type": "code",
   "execution_count": 65,
   "id": "13f6599e-d8ee-491f-b234-b55cad2eaee9",
   "metadata": {},
   "outputs": [
    {
     "name": "stdout",
     "output_type": "stream",
     "text": [
      "the\n",
      "sun\n",
      "moving\n",
      "is\n"
     ]
    }
   ],
   "source": [
    "for i in ny_num:\n",
    "    print(i)"
   ]
  },
  {
   "cell_type": "code",
   "execution_count": 69,
   "id": "560758d2-9518-4ac9-ba6e-bcfd93341526",
   "metadata": {},
   "outputs": [
    {
     "name": "stdout",
     "output_type": "stream",
     "text": [
      "h\n",
      "e\n",
      "l\n",
      "l\n",
      "l\n",
      "o\n",
      " \n",
      "t\n",
      "h\n",
      "e\n",
      "r\n",
      "e\n"
     ]
    }
   ],
   "source": [
    "for item in \"helllo there\":\n",
    "    print(item)"
   ]
  },
  {
   "cell_type": "code",
   "execution_count": 76,
   "id": "7c6e44db-fcda-4fa6-8a50-a475bd3c468b",
   "metadata": {},
   "outputs": [],
   "source": [
    "myls=[(1,2,3), (3,4,5),(5,5,6)]"
   ]
  },
  {
   "cell_type": "code",
   "execution_count": 78,
   "id": "bfb3ae6a-588c-4d12-91f2-ac765dd9039b",
   "metadata": {},
   "outputs": [
    {
     "name": "stdout",
     "output_type": "stream",
     "text": [
      "1\n",
      "3\n",
      "5\n"
     ]
    }
   ],
   "source": [
    "for a,b,c in myls:\n",
    "    print(a)"
   ]
  },
  {
   "cell_type": "code",
   "execution_count": 81,
   "id": "227f7111-51f5-4f41-b055-5e2b9ba4a544",
   "metadata": {},
   "outputs": [
    {
     "name": "stdout",
     "output_type": "stream",
     "text": [
      "0\n",
      "5\n",
      "10\n",
      "15\n",
      "20\n",
      "25\n"
     ]
    }
   ],
   "source": [
    "for i in range(0,30,5):\n",
    "    print(i)"
   ]
  },
  {
   "cell_type": "markdown",
   "id": "572f7370-bc7b-4e3b-81b3-df8d1067b000",
   "metadata": {},
   "source": [
    "(start, stop, step) \n",
    "stop is excluding"
   ]
  },
  {
   "cell_type": "code",
   "execution_count": 86,
   "id": "6131f292-0406-4250-ba04-5e49cf4556a6",
   "metadata": {},
   "outputs": [
    {
     "name": "stdout",
     "output_type": "stream",
     "text": [
      "(0, 'w')\n",
      "(1, 'o')\n",
      "(2, 'r')\n",
      "(3, 'd')\n"
     ]
    }
   ],
   "source": [
    "for i in enumerate('word'):\n",
    "    print(i)"
   ]
  },
  {
   "cell_type": "code",
   "execution_count": 90,
   "id": "c9df1419-89e1-4b9e-8c8d-b178fe6547d6",
   "metadata": {},
   "outputs": [
    {
     "name": "stdout",
     "output_type": "stream",
     "text": [
      "(1, 'a', 100)\n",
      "(2, 'b', 23)\n",
      "(3, 'c', 4)\n"
     ]
    }
   ],
   "source": [
    "l1=[1,2,3]\n",
    "l2=['a','b','c']\n",
    "l3=[100,23,4]\n",
    "for item in zip (l1,l2,l3):\n",
    "    print (item)"
   ]
  },
  {
   "cell_type": "code",
   "execution_count": 91,
   "id": "518f4d18-ea05-407d-88a7-5d73731526f7",
   "metadata": {},
   "outputs": [],
   "source": [
    "l4 = list(zip(l1,l2))"
   ]
  },
  {
   "cell_type": "markdown",
   "id": "f65d4a7c-04e8-4497-97b4-918c6668266b",
   "metadata": {},
   "source": [
    "#### "
   ]
  },
  {
   "cell_type": "code",
   "execution_count": 92,
   "id": "94a43fa0-0423-4354-8d2e-e6dc6102f11b",
   "metadata": {},
   "outputs": [
    {
     "data": {
      "text/plain": [
       "[(1, 'a'), (2, 'b'), (3, 'c')]"
      ]
     },
     "execution_count": 92,
     "metadata": {},
     "output_type": "execute_result"
    }
   ],
   "source": [
    "l4"
   ]
  },
  {
   "cell_type": "code",
   "execution_count": null,
   "id": "02a3abe6-7b1c-48a1-a521-8e270970d175",
   "metadata": {},
   "outputs": [],
   "source": []
  }
 ],
 "metadata": {
  "kernelspec": {
   "display_name": "Python 3 (ipykernel)",
   "language": "python",
   "name": "python3"
  },
  "language_info": {
   "codemirror_mode": {
    "name": "ipython",
    "version": 3
   },
   "file_extension": ".py",
   "mimetype": "text/x-python",
   "name": "python",
   "nbconvert_exporter": "python",
   "pygments_lexer": "ipython3",
   "version": "3.12.4"
  }
 },
 "nbformat": 4,
 "nbformat_minor": 5
}
