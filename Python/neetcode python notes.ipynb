{
 "cells": [
  {
   "cell_type": "code",
   "execution_count": 1,
   "id": "0969373f-611e-4ef3-adc7-9ba7b5409724",
   "metadata": {},
   "outputs": [],
   "source": [
    "# Dynamically Typed\n"
   ]
  },
  {
   "cell_type": "code",
   "execution_count": 2,
   "id": "51c61d25-e15d-4c0d-a12c-4e7a2bdd9d79",
   "metadata": {},
   "outputs": [],
   "source": [
    "n=0"
   ]
  },
  {
   "cell_type": "code",
   "execution_count": 3,
   "id": "d2a6b25d-8063-4dfa-84f9-38aa612abfeb",
   "metadata": {},
   "outputs": [],
   "source": [
    "n='hsjasja'"
   ]
  },
  {
   "cell_type": "code",
   "execution_count": 4,
   "id": "433eee37-2e92-4d63-8a4d-8c44c2d09b40",
   "metadata": {},
   "outputs": [],
   "source": [
    "# multple assignements\n"
   ]
  },
  {
   "cell_type": "code",
   "execution_count": 5,
   "id": "ae47dfdd-222f-4689-8ead-28b552cbd2b3",
   "metadata": {},
   "outputs": [],
   "source": [
    "n, m = 0, 'djed'"
   ]
  },
  {
   "cell_type": "code",
   "execution_count": 6,
   "id": "a6d49baa-bcf4-424a-8240-9682ad2ed103",
   "metadata": {},
   "outputs": [
    {
     "data": {
      "text/plain": [
       "0"
      ]
     },
     "execution_count": 6,
     "metadata": {},
     "output_type": "execute_result"
    }
   ],
   "source": [
    "n"
   ]
  },
  {
   "cell_type": "code",
   "execution_count": 7,
   "id": "fdebfc76-94be-420d-af2d-ba94e6f540b3",
   "metadata": {},
   "outputs": [
    {
     "data": {
      "text/plain": [
       "'djed'"
      ]
     },
     "execution_count": 7,
     "metadata": {},
     "output_type": "execute_result"
    }
   ],
   "source": [
    "m"
   ]
  },
  {
   "cell_type": "code",
   "execution_count": 8,
   "id": "47e9eb67-3855-47cf-a33a-95a16dc3efec",
   "metadata": {},
   "outputs": [],
   "source": [
    "n=n+1"
   ]
  },
  {
   "cell_type": "code",
   "execution_count": 9,
   "id": "0b0781db-5361-4b2e-b0c4-f67a3847141a",
   "metadata": {},
   "outputs": [],
   "source": [
    "n+=1"
   ]
  },
  {
   "cell_type": "code",
   "execution_count": 10,
   "id": "63e7af12-f34a-4597-9cd3-08c58b8bf637",
   "metadata": {},
   "outputs": [
    {
     "ename": "SyntaxError",
     "evalue": "invalid syntax (3927900762.py, line 1)",
     "output_type": "error",
     "traceback": [
      "\u001b[0;36m  Cell \u001b[0;32mIn[10], line 1\u001b[0;36m\u001b[0m\n\u001b[0;31m    n++\u001b[0m\n\u001b[0m       ^\u001b[0m\n\u001b[0;31mSyntaxError\u001b[0m\u001b[0;31m:\u001b[0m invalid syntax\n"
     ]
    }
   ],
   "source": [
    "n++"
   ]
  },
  {
   "cell_type": "code",
   "execution_count": 11,
   "id": "73dcef87-d0c1-4695-a6cd-1ed8693bf05f",
   "metadata": {},
   "outputs": [],
   "source": [
    "# None is abscence of value"
   ]
  },
  {
   "cell_type": "code",
   "execution_count": 12,
   "id": "f10ea1f9-c03a-440e-8544-e1a95f501952",
   "metadata": {},
   "outputs": [],
   "source": [
    "None"
   ]
  },
  {
   "cell_type": "code",
   "execution_count": 13,
   "id": "c141260a-995c-4795-aeb2-59edcdf14762",
   "metadata": {},
   "outputs": [],
   "source": [
    "#  no parenthesis required\n"
   ]
  },
  {
   "cell_type": "code",
   "execution_count": 18,
   "id": "ee8849f6-1413-42f9-9307-c64fade5e21a",
   "metadata": {},
   "outputs": [],
   "source": [
    "if n==1 :\n",
    "    n-=1\n",
    "elif n==2:\n",
    "    n+=1\n",
    "else:\n",
    "    n=0"
   ]
  },
  {
   "cell_type": "code",
   "execution_count": 21,
   "id": "83c18691-606c-446e-a3ee-6b4d6ec147d5",
   "metadata": {},
   "outputs": [],
   "source": [
    "if n!=2 or (n==1 and n==3):\n",
    "    n=2"
   ]
  },
  {
   "cell_type": "code",
   "execution_count": null,
   "id": "2ee3521d-ba4e-4edd-92df-ce4efa635c7b",
   "metadata": {},
   "outputs": [],
   "source": [
    "n=0\n",
    "while n<8:\n",
    "     n+=8"
   ]
  },
  {
   "cell_type": "code",
   "execution_count": null,
   "id": "0baec2f7-a078-4f8e-bab5-4e6cbe6590a0",
   "metadata": {},
   "outputs": [],
   "source": [
    "for i in range(5):"
   ]
  },
  {
   "cell_type": "code",
   "execution_count": null,
   "id": "04b44332-ce77-4022-a9b6-a965268930fa",
   "metadata": {},
   "outputs": [],
   "source": [
    "for i in range(5, 1, -1):\n",
    "    print(i)"
   ]
  },
  {
   "cell_type": "code",
   "execution_count": null,
   "id": "edc9e0d5-04a6-401e-8758-a0963a077f71",
   "metadata": {},
   "outputs": [],
   "source": [
    "print('hello')"
   ]
  },
  {
   "cell_type": "code",
   "execution_count": 23,
   "id": "6dd41d4c-6469-4761-9fc0-b12a4b65657a",
   "metadata": {},
   "outputs": [
    {
     "name": "stdout",
     "output_type": "stream",
     "text": [
      "5\n",
      "4\n",
      "3\n",
      "2\n"
     ]
    }
   ],
   "source": [
    "for i in range(5, 1, -1):\n",
    "    print(i)"
   ]
  },
  {
   "cell_type": "code",
   "execution_count": 24,
   "id": "8b4a2751-e1e7-4618-8c11-95448dbe64fa",
   "metadata": {},
   "outputs": [],
   "source": [
    "# Decimal Division by default *******"
   ]
  },
  {
   "cell_type": "code",
   "execution_count": 25,
   "id": "e982983c-ad75-467f-b39b-98c3460e6d34",
   "metadata": {},
   "outputs": [
    {
     "name": "stdout",
     "output_type": "stream",
     "text": [
      "2.5\n"
     ]
    }
   ],
   "source": [
    "print(5/2)"
   ]
  },
  {
   "cell_type": "code",
   "execution_count": 26,
   "id": "f333f92f-57f3-4954-8fbb-63dcaa353673",
   "metadata": {},
   "outputs": [],
   "source": [
    "# For inter result in division use // ***********"
   ]
  },
  {
   "cell_type": "code",
   "execution_count": 27,
   "id": "5dc04792-aa8a-4847-ad82-2126bf69ae24",
   "metadata": {},
   "outputs": [
    {
     "name": "stdout",
     "output_type": "stream",
     "text": [
      "2\n"
     ]
    }
   ],
   "source": [
    "print(5//2)"
   ]
  },
  {
   "cell_type": "code",
   "execution_count": 28,
   "id": "8334ba50-c7fc-4648-8ba1-3702737f02ce",
   "metadata": {},
   "outputs": [],
   "source": [
    "# but be carefull python will round down"
   ]
  },
  {
   "cell_type": "code",
   "execution_count": 29,
   "id": "431c0af3-cc4c-4302-b5e9-b259159ee536",
   "metadata": {},
   "outputs": [
    {
     "name": "stdout",
     "output_type": "stream",
     "text": [
      "1.5\n"
     ]
    }
   ],
   "source": [
    "print(3/2)"
   ]
  },
  {
   "cell_type": "code",
   "execution_count": 32,
   "id": "18afa044-21e0-450b-af0e-de6acf51860f",
   "metadata": {},
   "outputs": [
    {
     "name": "stdout",
     "output_type": "stream",
     "text": [
      "1\n"
     ]
    }
   ],
   "source": [
    "print(3//2)"
   ]
  },
  {
   "cell_type": "code",
   "execution_count": 33,
   "id": "ddf74f06-9071-4a42-aa75-4aa2246d702c",
   "metadata": {},
   "outputs": [
    {
     "name": "stdout",
     "output_type": "stream",
     "text": [
      "-2\n"
     ]
    }
   ],
   "source": [
    "print(-3//2)"
   ]
  },
  {
   "cell_type": "code",
   "execution_count": 34,
   "id": "1fbb43d1-d0ed-42cc-b3ec-836d13aedff1",
   "metadata": {},
   "outputs": [
    {
     "name": "stdout",
     "output_type": "stream",
     "text": [
      "1\n"
     ]
    }
   ],
   "source": [
    "print(10%3)"
   ]
  },
  {
   "cell_type": "code",
   "execution_count": 35,
   "id": "e680aeab-e701-4719-ab5a-c09c2ad692a4",
   "metadata": {},
   "outputs": [],
   "source": [
    "# Here same for modulo as well"
   ]
  },
  {
   "cell_type": "code",
   "execution_count": 36,
   "id": "bd2948e1-bf84-413b-83e4-4dba0cd939a6",
   "metadata": {},
   "outputs": [
    {
     "name": "stdout",
     "output_type": "stream",
     "text": [
      "2\n"
     ]
    }
   ],
   "source": [
    "print(-10%3)"
   ]
  },
  {
   "cell_type": "code",
   "execution_count": 37,
   "id": "c55e00a1-b36a-4261-bda6-d387476ab1ae",
   "metadata": {},
   "outputs": [
    {
     "name": "stdout",
     "output_type": "stream",
     "text": [
      "-1.0\n"
     ]
    }
   ],
   "source": [
    "import math\n",
    "print(math.fmod(-10,3))"
   ]
  },
  {
   "cell_type": "code",
   "execution_count": 38,
   "id": "c855fd89-63fe-47df-9ae1-66e1b0bdacbf",
   "metadata": {},
   "outputs": [
    {
     "name": "stdout",
     "output_type": "stream",
     "text": [
      "1\n"
     ]
    }
   ],
   "source": [
    "print(math.floor(3/2))"
   ]
  },
  {
   "cell_type": "code",
   "execution_count": 39,
   "id": "fd740d4b-6fa5-4f63-9cb2-31c730373e05",
   "metadata": {},
   "outputs": [
    {
     "name": "stdout",
     "output_type": "stream",
     "text": [
      "2\n"
     ]
    }
   ],
   "source": [
    "print(math.ceil(3/2))"
   ]
  },
  {
   "cell_type": "code",
   "execution_count": 41,
   "id": "02176353-81d9-4347-aa00-6fca8bfbb09d",
   "metadata": {},
   "outputs": [
    {
     "name": "stdout",
     "output_type": "stream",
     "text": [
      "1.7320508075688772\n"
     ]
    }
   ],
   "source": [
    "print(math.sqrt(3))"
   ]
  },
  {
   "cell_type": "code",
   "execution_count": 42,
   "id": "a8976953-a8f9-466a-aad8-c954d0b53008",
   "metadata": {},
   "outputs": [
    {
     "name": "stdout",
     "output_type": "stream",
     "text": [
      "9.0\n"
     ]
    }
   ],
   "source": [
    "print(math.pow(3,2))"
   ]
  },
  {
   "cell_type": "code",
   "execution_count": 47,
   "id": "ffbc59b9-4709-4db5-aebc-a1e5f61a2c72",
   "metadata": {},
   "outputs": [
    {
     "data": {
      "text/plain": [
       "inf"
      ]
     },
     "execution_count": 47,
     "metadata": {},
     "output_type": "execute_result"
    }
   ],
   "source": [
    "# MAx/ Min int. python doesn't overflow\n",
    "float('inf')"
   ]
  },
  {
   "cell_type": "code",
   "execution_count": 48,
   "id": "e440bd79-abbe-4e3c-8699-03beff2c0b7f",
   "metadata": {},
   "outputs": [
    {
     "data": {
      "text/plain": [
       "-inf"
      ]
     },
     "execution_count": 48,
     "metadata": {},
     "output_type": "execute_result"
    }
   ],
   "source": [
    "float('-inf')"
   ]
  },
  {
   "cell_type": "code",
   "execution_count": 61,
   "id": "d7d8ed43-f332-4d73-acd1-4c4f773b6e03",
   "metadata": {},
   "outputs": [],
   "source": [
    "arr = [7,8]"
   ]
  },
  {
   "cell_type": "code",
   "execution_count": 62,
   "id": "31916aad-0a4a-4623-a9aa-7a21eb2e88a7",
   "metadata": {},
   "outputs": [
    {
     "name": "stdout",
     "output_type": "stream",
     "text": [
      "[7, 8]\n"
     ]
    }
   ],
   "source": [
    "print(arr)"
   ]
  },
  {
   "cell_type": "code",
   "execution_count": 63,
   "id": "2e724698-95ff-4785-8afd-23b5a5caceb0",
   "metadata": {},
   "outputs": [],
   "source": [
    "arr.append(6)"
   ]
  },
  {
   "cell_type": "code",
   "execution_count": 64,
   "id": "0107e558-19fc-47d3-8202-b5522c9d5228",
   "metadata": {},
   "outputs": [
    {
     "name": "stdout",
     "output_type": "stream",
     "text": [
      "[7, 8, 6]\n"
     ]
    }
   ],
   "source": [
    "print(arr)"
   ]
  },
  {
   "cell_type": "code",
   "execution_count": 65,
   "id": "d802a2c9-0b2e-405e-89fd-b69c5b86f3ce",
   "metadata": {},
   "outputs": [
    {
     "name": "stdout",
     "output_type": "stream",
     "text": [
      "[7, 5, 8, 6]\n"
     ]
    }
   ],
   "source": [
    "arr.insert(1,5) # this is O(n)\n",
    "print(arr)"
   ]
  },
  {
   "cell_type": "code",
   "execution_count": 66,
   "id": "c8d2d2a1-db9d-41a7-b44b-5b82ed6c4b9a",
   "metadata": {},
   "outputs": [
    {
     "name": "stdout",
     "output_type": "stream",
     "text": [
      "[4, 5, 8, 6]\n"
     ]
    }
   ],
   "source": [
    "arr[0] = 4 # this is o(1)\n",
    "print(arr)"
   ]
  },
  {
   "cell_type": "code",
   "execution_count": 67,
   "id": "688ca829-1ef1-4bf1-977f-466ae63b5974",
   "metadata": {},
   "outputs": [
    {
     "data": {
      "text/plain": [
       "6"
      ]
     },
     "execution_count": 67,
     "metadata": {},
     "output_type": "execute_result"
    }
   ],
   "source": [
    "arr.pop()"
   ]
  },
  {
   "cell_type": "code",
   "execution_count": 68,
   "id": "3a6ce036-95c8-46d8-975c-c8a54cc6e701",
   "metadata": {},
   "outputs": [
    {
     "name": "stdout",
     "output_type": "stream",
     "text": [
      "[4, 5, 8]\n"
     ]
    }
   ],
   "source": [
    "print(arr)"
   ]
  },
  {
   "cell_type": "code",
   "execution_count": 69,
   "id": "a38f311b-8e28-44b9-961a-4e48373afdd7",
   "metadata": {},
   "outputs": [
    {
     "data": {
      "text/plain": [
       "4"
      ]
     },
     "execution_count": 69,
     "metadata": {},
     "output_type": "execute_result"
    }
   ],
   "source": [
    "arr.pop(0)  # here you can pop at the required index O(n)*************"
   ]
  },
  {
   "cell_type": "code",
   "execution_count": 70,
   "id": "74551c8b-e042-4372-9f89-c86ff21e1020",
   "metadata": {},
   "outputs": [
    {
     "name": "stdout",
     "output_type": "stream",
     "text": [
      "[5, 8]\n"
     ]
    }
   ],
   "source": [
    "print(arr)"
   ]
  },
  {
   "cell_type": "code",
   "execution_count": 72,
   "id": "9116837d-2e78-415e-bcf4-2bca524e79e8",
   "metadata": {},
   "outputs": [
    {
     "name": "stdout",
     "output_type": "stream",
     "text": [
      "[0, 0, 0, 0, 0]\n"
     ]
    }
   ],
   "source": [
    "size_of_array_you_want = 5\n",
    "initialize_with =0\n",
    "arr = [initialize_with] * size_of_array_you_want\n",
    "print(arr)"
   ]
  },
  {
   "cell_type": "code",
   "execution_count": 75,
   "id": "85dfa8ce-dbd3-4c16-9af4-42978aa4416a",
   "metadata": {},
   "outputs": [
    {
     "name": "stdout",
     "output_type": "stream",
     "text": [
      "[-1, -1, -1, -1, -1, -1]\n"
     ]
    }
   ],
   "source": [
    "arr = [-1] * 6\n",
    "print(arr)"
   ]
  },
  {
   "cell_type": "code",
   "execution_count": 77,
   "id": "7f33e11f-c45d-48b0-90f8-6532bd06ff31",
   "metadata": {},
   "outputs": [
    {
     "name": "stdout",
     "output_type": "stream",
     "text": [
      "89\n"
     ]
    }
   ],
   "source": [
    "arr= [3,5,6,7,8,8,89,90,787]\n",
    "print(arr[-3]) # negative index gives the element at index from last"
   ]
  },
  {
   "cell_type": "code",
   "execution_count": 80,
   "id": "d01012ba-f305-4eb3-ace9-9924dfc36a31",
   "metadata": {},
   "outputs": [
    {
     "name": "stdout",
     "output_type": "stream",
     "text": [
      "[7, 8, 8]\n"
     ]
    }
   ],
   "source": [
    "# slicing  [start:stop:step]  \n",
    "# step is inclusive\n",
    "# stop is exclusive\n",
    "# step will skip the sequense for given steps\n",
    "print(arr[3:6])"
   ]
  },
  {
   "cell_type": "code",
   "execution_count": 82,
   "id": "8bc59cf3-75ab-4ec5-a0fa-fb4daf76855e",
   "metadata": {},
   "outputs": [
    {
     "name": "stdout",
     "output_type": "stream",
     "text": [
      "[3, 6, 8, 89, 787]\n"
     ]
    }
   ],
   "source": [
    "print(arr[0:10:2])"
   ]
  },
  {
   "cell_type": "code",
   "execution_count": 83,
   "id": "37a3aae6-3aca-4eaf-b18f-c51b5880ebac",
   "metadata": {},
   "outputs": [],
   "source": [
    "# Unpacking, number of variables MUST match\n",
    "a,b,c =[1,2,3]"
   ]
  },
  {
   "cell_type": "code",
   "execution_count": 84,
   "id": "8ca33d1f-6929-46a4-97bb-67c3b4d9d0e4",
   "metadata": {},
   "outputs": [
    {
     "name": "stdout",
     "output_type": "stream",
     "text": [
      "3\n",
      "5\n",
      "6\n",
      "7\n",
      "8\n",
      "8\n",
      "89\n",
      "90\n",
      "787\n"
     ]
    }
   ],
   "source": [
    "for i in range(len(arr)):\n",
    "    print(arr[i])"
   ]
  },
  {
   "cell_type": "code",
   "execution_count": 85,
   "id": "4ea41ff3-c903-454a-8432-1e2db4a26a4b",
   "metadata": {},
   "outputs": [
    {
     "name": "stdout",
     "output_type": "stream",
     "text": [
      "3\n",
      "5\n",
      "6\n",
      "7\n",
      "8\n",
      "8\n",
      "89\n",
      "90\n",
      "787\n"
     ]
    }
   ],
   "source": [
    "for n in arr:\n",
    "    print(n)"
   ]
  },
  {
   "cell_type": "code",
   "execution_count": 87,
   "id": "945772a3-d599-471c-80ab-c05acf4f6dfa",
   "metadata": {},
   "outputs": [
    {
     "name": "stdout",
     "output_type": "stream",
     "text": [
      "0 3\n",
      "1 5\n",
      "2 6\n",
      "3 7\n",
      "4 8\n",
      "5 8\n",
      "6 89\n",
      "7 90\n",
      "8 787\n"
     ]
    }
   ],
   "source": [
    "for i, n in enumerate(arr):\n",
    "    print(i,n)"
   ]
  },
  {
   "cell_type": "code",
   "execution_count": 88,
   "id": "29a6dc4c-3d43-4244-bb72-da013caf6620",
   "metadata": {},
   "outputs": [],
   "source": [
    "arr1 = [1,2,3,4,5,6,7,8,9]"
   ]
  },
  {
   "cell_type": "code",
   "execution_count": 90,
   "id": "fa67ff64-3a7a-44b3-9df4-881609d8e032",
   "metadata": {},
   "outputs": [
    {
     "name": "stdout",
     "output_type": "stream",
     "text": [
      "3 1\n",
      "5 2\n",
      "6 3\n",
      "7 4\n",
      "8 5\n",
      "8 6\n",
      "89 7\n",
      "90 8\n",
      "787 9\n"
     ]
    }
   ],
   "source": [
    "for n1, n2 in zip(arr, arr1):\n",
    "    print(n1,n2)"
   ]
  },
  {
   "cell_type": "code",
   "execution_count": 91,
   "id": "0c1af866-1227-4b98-8321-545736ca5b8c",
   "metadata": {},
   "outputs": [
    {
     "name": "stdout",
     "output_type": "stream",
     "text": [
      "[787, 90, 89, 8, 8, 7, 6, 5, 3]\n"
     ]
    }
   ],
   "source": [
    "arr.reverse()\n",
    "print(arr)"
   ]
  },
  {
   "cell_type": "code",
   "execution_count": 92,
   "id": "1192f8fb-6f84-4ff9-ae5b-267cbcd3b658",
   "metadata": {},
   "outputs": [
    {
     "name": "stdout",
     "output_type": "stream",
     "text": [
      "[3, 5, 6, 7, 8, 8, 89, 90, 787]\n"
     ]
    }
   ],
   "source": [
    "arr.sort()\n",
    "print(arr) #ascending"
   ]
  },
  {
   "cell_type": "code",
   "execution_count": 94,
   "id": "e97289de-efff-4c5f-b9b7-8c48761b0a7e",
   "metadata": {},
   "outputs": [
    {
     "name": "stdout",
     "output_type": "stream",
     "text": [
      "[787, 90, 89, 8, 8, 7, 6, 5, 3]\n"
     ]
    }
   ],
   "source": [
    "arr.sort(reverse=True) #descending\n",
    "print(arr)"
   ]
  },
  {
   "cell_type": "code",
   "execution_count": 99,
   "id": "a0e40101-96a7-4375-8a74-153b48da3d69",
   "metadata": {},
   "outputs": [
    {
     "name": "stdout",
     "output_type": "stream",
     "text": [
      "['sssa', 'dsdsdws', 'dsdsdsdada']\n"
     ]
    }
   ],
   "source": [
    "# custom sort (by length of string)\n",
    "arr = ['dsdsdws', 'sssa', 'dsdsdsdada']\n",
    "arr.sort(key=lambda x:len(x))\n",
    "print(arr)"
   ]
  },
  {
   "cell_type": "code",
   "execution_count": 101,
   "id": "9c244307-b10c-4a68-895e-dd8a3becae12",
   "metadata": {},
   "outputs": [
    {
     "name": "stdout",
     "output_type": "stream",
     "text": [
      "[0, 1, 2, 3, 4]\n"
     ]
    }
   ],
   "source": [
    " # List comprehension short hand\n",
    "arr = [ i for i in range(5)]\n",
    "print(arr)"
   ]
  },
  {
   "cell_type": "code",
   "execution_count": 102,
   "id": "a71edf53-ec1c-48d0-a517-bbbd8e04aff5",
   "metadata": {},
   "outputs": [],
   "source": [
    "# stop is exclusive"
   ]
  },
  {
   "cell_type": "code",
   "execution_count": 104,
   "id": "23bf5a79-acec-4ed2-96d3-aa0658c290e3",
   "metadata": {},
   "outputs": [
    {
     "name": "stdout",
     "output_type": "stream",
     "text": [
      "[0, 2, 4, 6, 8]\n"
     ]
    }
   ],
   "source": [
    "arr = [ i+i for i in range(5)]\n",
    "print(arr)"
   ]
  },
  {
   "cell_type": "code",
   "execution_count": 106,
   "id": "63644fc3-9e59-4d9d-8994-7d20f2fc673e",
   "metadata": {},
   "outputs": [
    {
     "name": "stdout",
     "output_type": "stream",
     "text": [
      "[0, 0, 0, 0]\n"
     ]
    }
   ],
   "source": [
    "arr = [0]*4\n",
    "print(arr)"
   ]
  },
  {
   "cell_type": "code",
   "execution_count": 109,
   "id": "301893a2-0068-4470-9758-0ffcbcf9c55b",
   "metadata": {},
   "outputs": [
    {
     "name": "stdout",
     "output_type": "stream",
     "text": [
      "[[0, 0, 0, 0], [0, 0, 0, 0], [0, 0, 0, 0], [0, 0, 0, 0], [0, 0, 0, 0]]\n"
     ]
    }
   ],
   "source": [
    "#  2D array list\n",
    "arr =[[0]*4 for i in range(5)]\n",
    "print(arr)"
   ]
  },
  {
   "cell_type": "code",
   "execution_count": 111,
   "id": "ba5b72a5-5d60-4d37-bc82-10235fa095d6",
   "metadata": {},
   "outputs": [
    {
     "ename": "TypeError",
     "evalue": "'int' object does not support item assignment",
     "output_type": "error",
     "traceback": [
      "\u001b[0;31m---------------------------------------------------------------------------\u001b[0m",
      "\u001b[0;31mTypeError\u001b[0m                                 Traceback (most recent call last)",
      "Cell \u001b[0;32mIn[111], line 3\u001b[0m\n\u001b[1;32m      1\u001b[0m \u001b[38;5;66;03m# strings are same as array but immtable\u001b[39;00m\n\u001b[1;32m      2\u001b[0m s \u001b[38;5;241m=\u001b[39m \u001b[38;5;124m'\u001b[39m\u001b[38;5;124msaasasa\u001b[39m\u001b[38;5;124m'\u001b[39m\n\u001b[0;32m----> 3\u001b[0m \u001b[43ma\u001b[49m\u001b[43m[\u001b[49m\u001b[38;5;241;43m0\u001b[39;49m\u001b[43m]\u001b[49m\u001b[38;5;241m=\u001b[39m\u001b[38;5;124m'\u001b[39m\u001b[38;5;124mk\u001b[39m\u001b[38;5;124m'\u001b[39m\n",
      "\u001b[0;31mTypeError\u001b[0m: 'int' object does not support item assignment"
     ]
    }
   ],
   "source": [
    "# strings are same as array but immtable\n",
    "s = 'saasasa'\n",
    "a[0]='k'"
   ]
  },
  {
   "cell_type": "code",
   "execution_count": 113,
   "id": "5067a8ec-ce72-42d6-b75a-644471914a12",
   "metadata": {},
   "outputs": [
    {
     "name": "stdout",
     "output_type": "stream",
     "text": [
      "97\n",
      "98\n"
     ]
    }
   ],
   "source": [
    "# ascII value\n",
    "print(ord('a'))\n",
    "print(ord('b'))"
   ]
  },
  {
   "cell_type": "code",
   "execution_count": 116,
   "id": "d2c0a63d-c747-4ebb-944f-6692a7156155",
   "metadata": {},
   "outputs": [
    {
     "name": "stdout",
     "output_type": "stream",
     "text": [
      "qqqf\n"
     ]
    }
   ],
   "source": [
    "# combining list of string with delimiter empty string\n",
    "strings = ['qq','q','f']\n",
    "print(\"\".join(strings))"
   ]
  },
  {
   "cell_type": "code",
   "execution_count": 122,
   "id": "44b05b5e-b088-46d2-9fe5-a96e748f08a9",
   "metadata": {},
   "outputs": [
    {
     "name": "stdout",
     "output_type": "stream",
     "text": [
      "deque([1, 2, 3, 4])\n"
     ]
    }
   ],
   "source": [
    "# QUEUEEEEEEE [ Double ended queue]\n",
    "\n",
    "from collections import deque\n",
    "queue = deque()\n",
    "queue.append(1)\n",
    "queue.append(2)\n",
    "queue.append(3)\n",
    "queue.append(4)\n",
    "print(queue)"
   ]
  },
  {
   "cell_type": "code",
   "execution_count": 123,
   "id": "59c074e1-5117-4d22-88d5-04d47ed8f092",
   "metadata": {},
   "outputs": [
    {
     "name": "stdout",
     "output_type": "stream",
     "text": [
      "deque([1, 2, 3])\n"
     ]
    }
   ],
   "source": [
    "queue.pop()\n",
    "print(queue)"
   ]
  },
  {
   "cell_type": "code",
   "execution_count": 124,
   "id": "47da8b92-324a-4d48-920d-9cf2fe585333",
   "metadata": {},
   "outputs": [
    {
     "name": "stdout",
     "output_type": "stream",
     "text": [
      "deque([5, 1, 2, 3])\n"
     ]
    }
   ],
   "source": [
    "# since this is dequeue you can append/pop from leftcas well\n",
    "queue.appendleft(5)\n",
    "print(queue)"
   ]
  },
  {
   "cell_type": "code",
   "execution_count": 125,
   "id": "4a3af653-232a-4dac-8d32-4cb03145fbe9",
   "metadata": {},
   "outputs": [
    {
     "name": "stdout",
     "output_type": "stream",
     "text": [
      "deque([1, 2, 3])\n"
     ]
    }
   ],
   "source": [
    "queue.popleft()\n",
    "print(queue)"
   ]
  },
  {
   "cell_type": "code",
   "execution_count": 128,
   "id": "3f596630-0d9d-44ce-87f4-64f3fdc6c920",
   "metadata": {},
   "outputs": [
    {
     "name": "stdout",
     "output_type": "stream",
     "text": [
      "{1, 2}\n"
     ]
    }
   ],
   "source": [
    "# Hashset\n",
    "s = set()\n",
    "s.add(2)\n",
    "s.add(1)\n",
    "s.add(1)\n",
    "print(s)"
   ]
  },
  {
   "cell_type": "code",
   "execution_count": 129,
   "id": "9a53b900-7b66-4a7a-8001-36f74b57b000",
   "metadata": {},
   "outputs": [
    {
     "name": "stdout",
     "output_type": "stream",
     "text": [
      "True\n",
      "False\n"
     ]
    }
   ],
   "source": [
    "print(2 in s)\n",
    "print(3 in s)"
   ]
  },
  {
   "cell_type": "code",
   "execution_count": 131,
   "id": "177b8c24-90c1-4d6f-90e6-0f7d6c343514",
   "metadata": {},
   "outputs": [
    {
     "name": "stdout",
     "output_type": "stream",
     "text": [
      "{1}\n"
     ]
    }
   ],
   "source": [
    "s.remove(2)\n",
    "print(s)"
   ]
  },
  {
   "cell_type": "code",
   "execution_count": 134,
   "id": "40231c92-d793-463d-b691-152f0cf296ae",
   "metadata": {},
   "outputs": [
    {
     "name": "stdout",
     "output_type": "stream",
     "text": [
      "{1, 2, 3, 4, 5}\n"
     ]
    }
   ],
   "source": [
    "# list to set\n",
    "print(set([1,2,3,4,5]))"
   ]
  },
  {
   "cell_type": "code",
   "execution_count": 135,
   "id": "344aebf4-88f3-457b-9b77-61a844195afc",
   "metadata": {},
   "outputs": [
    {
     "name": "stdout",
     "output_type": "stream",
     "text": [
      "{0, 1, 2, 3, 4}\n"
     ]
    }
   ],
   "source": [
    "ss= { i for i in range(5)}\n",
    "print(ss)"
   ]
  },
  {
   "cell_type": "code",
   "execution_count": 136,
   "id": "1442c907-294a-48a2-a416-5bfb2eb0b9a4",
   "metadata": {},
   "outputs": [
    {
     "name": "stdout",
     "output_type": "stream",
     "text": [
      "{'a': 0, 'b': 1}\n"
     ]
    }
   ],
   "source": [
    "#  HashMap/Dictionary\n",
    "map={}\n",
    "map['a']=0\n",
    "map['b']=1\n",
    "print(map)"
   ]
  },
  {
   "cell_type": "code",
   "execution_count": 137,
   "id": "335e9655-4051-4617-b656-48cbe3ddf8ca",
   "metadata": {},
   "outputs": [
    {
     "name": "stdout",
     "output_type": "stream",
     "text": [
      "{'a': 1, 'b': 2, 'c': 3}\n"
     ]
    }
   ],
   "source": [
    "# OR you can initialise as follows\n",
    "map = {'a':1,'b':2, 'c':3 }\n",
    "print(map)"
   ]
  },
  {
   "cell_type": "code",
   "execution_count": 138,
   "id": "4aadaa4b-9b71-4f1f-9605-bea60e265112",
   "metadata": {},
   "outputs": [
    {
     "name": "stdout",
     "output_type": "stream",
     "text": [
      "True\n"
     ]
    }
   ],
   "source": [
    "print( 'a' in map)"
   ]
  },
  {
   "cell_type": "code",
   "execution_count": 139,
   "id": "23843e99-0f8e-4847-83fe-b23ebbdb50af",
   "metadata": {},
   "outputs": [
    {
     "name": "stdout",
     "output_type": "stream",
     "text": [
      "False\n"
     ]
    }
   ],
   "source": [
    "print('h' in map)"
   ]
  },
  {
   "cell_type": "code",
   "execution_count": 141,
   "id": "6fc5915d-9caa-4dfc-ba5d-023f20159500",
   "metadata": {},
   "outputs": [
    {
     "name": "stdout",
     "output_type": "stream",
     "text": [
      "{0: 0, 1: 2, 2: 4}\n"
     ]
    }
   ],
   "source": [
    "#  dict comprehension\n",
    "map = { i:2*i for i in range(3)}\n",
    "print(map)"
   ]
  },
  {
   "cell_type": "code",
   "execution_count": 142,
   "id": "273e3356-a50d-4036-ab69-d598fab00ffe",
   "metadata": {},
   "outputs": [
    {
     "name": "stdout",
     "output_type": "stream",
     "text": [
      "0 0\n",
      "1 2\n",
      "2 4\n"
     ]
    }
   ],
   "source": [
    "for key in map:\n",
    "    print(key, map[key])"
   ]
  },
  {
   "cell_type": "code",
   "execution_count": 143,
   "id": "036e05fa-fe06-4c97-8cd9-075286db3d9c",
   "metadata": {},
   "outputs": [
    {
     "name": "stdout",
     "output_type": "stream",
     "text": [
      "0\n",
      "2\n",
      "4\n"
     ]
    }
   ],
   "source": [
    "for val in map.values():\n",
    "    print(val)"
   ]
  },
  {
   "cell_type": "code",
   "execution_count": 144,
   "id": "dfb2559d-fc6f-405d-9b84-744cacd5293c",
   "metadata": {},
   "outputs": [
    {
     "name": "stdout",
     "output_type": "stream",
     "text": [
      "0 0\n",
      "1 2\n",
      "2 4\n"
     ]
    }
   ],
   "source": [
    "for key, val in map.items():\n",
    "    print(key, val)"
   ]
  },
  {
   "cell_type": "code",
   "execution_count": 148,
   "id": "83ca4223-7391-4030-87ef-ce7b86e65b21",
   "metadata": {},
   "outputs": [
    {
     "name": "stdout",
     "output_type": "stream",
     "text": [
      "(1, 2, 3)\n",
      "1\n",
      "3\n"
     ]
    }
   ],
   "source": [
    "# tuples are immutable\n",
    "tup = (1,2,3)\n",
    "print(tup)\n",
    "print(tup[0])\n",
    "print(tup[-1])"
   ]
  },
  {
   "cell_type": "code",
   "execution_count": 149,
   "id": "76ce08db-747e-48d2-a604-65291465dd4f",
   "metadata": {},
   "outputs": [
    {
     "ename": "TypeError",
     "evalue": "'tuple' object does not support item assignment",
     "output_type": "error",
     "traceback": [
      "\u001b[0;31m---------------------------------------------------------------------------\u001b[0m",
      "\u001b[0;31mTypeError\u001b[0m                                 Traceback (most recent call last)",
      "Cell \u001b[0;32mIn[149], line 1\u001b[0m\n\u001b[0;32m----> 1\u001b[0m \u001b[43mtup\u001b[49m\u001b[43m[\u001b[49m\u001b[38;5;241;43m0\u001b[39;49m\u001b[43m]\u001b[49m\u001b[38;5;241m=\u001b[39m\u001b[38;5;241m5\u001b[39m\n",
      "\u001b[0;31mTypeError\u001b[0m: 'tuple' object does not support item assignment"
     ]
    }
   ],
   "source": [
    "tup[0]=5"
   ]
  },
  {
   "cell_type": "code",
   "execution_count": 150,
   "id": "037c28c2-7b9b-4000-9a93-363a7a03117c",
   "metadata": {},
   "outputs": [
    {
     "name": "stdout",
     "output_type": "stream",
     "text": [
      "{(1, 2): 3}\n"
     ]
    }
   ],
   "source": [
    "# as tuples are immutable & hashable they can be used as key for hashmap/set\n",
    "map = {(1,2):3}\n",
    "print(map)"
   ]
  },
  {
   "cell_type": "code",
   "execution_count": 153,
   "id": "0fde69ec-3215-45dd-b02e-adb5c8a05e7c",
   "metadata": {},
   "outputs": [
    {
     "name": "stdout",
     "output_type": "stream",
     "text": [
      "{(1, 2)}\n",
      "True\n"
     ]
    }
   ],
   "source": [
    "s = set()\n",
    "s.add((1,2))\n",
    "print(s)\n",
    "print((1,2) in s)"
   ]
  },
  {
   "cell_type": "code",
   "execution_count": 154,
   "id": "3275ff00-3c9d-46cb-a153-22a00e3915a1",
   "metadata": {},
   "outputs": [
    {
     "ename": "TypeError",
     "evalue": "unhashable type: 'list'",
     "output_type": "error",
     "traceback": [
      "\u001b[0;31m---------------------------------------------------------------------------\u001b[0m",
      "\u001b[0;31mTypeError\u001b[0m                                 Traceback (most recent call last)",
      "Cell \u001b[0;32mIn[154], line 2\u001b[0m\n\u001b[1;32m      1\u001b[0m \u001b[38;5;66;03m# lists cant be keys\u001b[39;00m\n\u001b[0;32m----> 2\u001b[0m \u001b[38;5;28;43mmap\u001b[39;49m\u001b[43m[\u001b[49m\u001b[43m[\u001b[49m\u001b[38;5;241;43m3\u001b[39;49m\u001b[43m,\u001b[49m\u001b[38;5;241;43m4\u001b[39;49m\u001b[43m]\u001b[49m\u001b[43m]\u001b[49m\u001b[38;5;241m=\u001b[39m\u001b[38;5;241m0\u001b[39m\n",
      "\u001b[0;31mTypeError\u001b[0m: unhashable type: 'list'"
     ]
    }
   ],
   "source": [
    "# lists cant be keys as unhashable\n",
    "map[[3,4]]=0"
   ]
  },
  {
   "cell_type": "code",
   "execution_count": 158,
   "id": "69790f82-2fc1-48de-a731-544398b2e4fc",
   "metadata": {},
   "outputs": [
    {
     "name": "stdout",
     "output_type": "stream",
     "text": [
      "[5, 8, 7]\n"
     ]
    }
   ],
   "source": [
    "# heaps are priority queue\n",
    "import heapq\n",
    "\n",
    "# under the hood are arrays\n",
    "minHeap = []\n",
    "heapq.heappush(minHeap, 8)\n",
    "heapq.heappush(minHeap, 7)\n",
    "heapq.heappush(minHeap, 5)\n",
    "print(minHeap)"
   ]
  },
  {
   "cell_type": "code",
   "execution_count": 159,
   "id": "dc7ec4cb-1109-4027-af40-8a63b82306df",
   "metadata": {},
   "outputs": [
    {
     "name": "stdout",
     "output_type": "stream",
     "text": [
      "5\n"
     ]
    }
   ],
   "source": [
    "# min is at index 0\n",
    "print(minHeap[0])"
   ]
  },
  {
   "cell_type": "code",
   "execution_count": 161,
   "id": "f41796b2-26b5-45a8-a2fa-e10580511902",
   "metadata": {},
   "outputs": [
    {
     "name": "stdout",
     "output_type": "stream",
     "text": [
      "5\n",
      "7\n",
      "8\n"
     ]
    }
   ],
   "source": [
    "while len(minHeap):\n",
    "    print(heapq.heappop(minHeap))"
   ]
  },
  {
   "cell_type": "code",
   "execution_count": 162,
   "id": "7cd6b5c5-1d75-425d-8a9e-58e1c49ed7b5",
   "metadata": {},
   "outputs": [
    {
     "name": "stdout",
     "output_type": "stream",
     "text": [
      "[]\n"
     ]
    }
   ],
   "source": [
    "print(minHeap)"
   ]
  },
  {
   "cell_type": "code",
   "execution_count": 167,
   "id": "fa515513-e766-48c5-aa31-dff0699df5aa",
   "metadata": {},
   "outputs": [
    {
     "name": "stdout",
     "output_type": "stream",
     "text": [
      "[-4, -2, -3]\n",
      "4\n"
     ]
    }
   ],
   "source": [
    "# Heap/ priority queue (minheap)\n",
    "import heapq\n",
    "\n",
    "# No max heaps by default, work around is to use min heap \n",
    "# and multiply by -1 when push and pop\n",
    "\n",
    "mxhp = []\n",
    "heapq.heappush(mxhp, -3)\n",
    "heapq.heappush(mxhp, -2)\n",
    "heapq.heappush(mxhp, -4)\n",
    "print(mxhp)\n",
    "\n",
    "# max is always at index 0\n",
    "print(-1 * mxhp[0])\n",
    "# you need to multiply by -1 as you did sav -ve values earlier for max heap\n"
   ]
  },
  {
   "cell_type": "code",
   "execution_count": 168,
   "id": "1e2cbcaa-17fe-431e-b252-fbd25bdfaab1",
   "metadata": {},
   "outputs": [
    {
     "name": "stdout",
     "output_type": "stream",
     "text": [
      "-4\n",
      "-3\n",
      "-2\n"
     ]
    }
   ],
   "source": [
    "while len(mxhp):\n",
    "    print(heapq.heappop(mxhp))"
   ]
  },
  {
   "cell_type": "code",
   "execution_count": 169,
   "id": "d5ac88df-ba0f-4dfd-b8ef-9eca6d2c3041",
   "metadata": {},
   "outputs": [
    {
     "name": "stdout",
     "output_type": "stream",
     "text": [
      "1\n",
      "2\n",
      "5\n",
      "7\n",
      "9\n"
     ]
    }
   ],
   "source": [
    "# Heap/ priority queue (minheap)\n",
    "import heapq\n",
    "# build heaps from initial array\n",
    "arr = [2,5,7,1,9]\n",
    "heapq.heapify(arr)\n",
    "while arr:\n",
    "    print(heapq.heappop(arr))"
   ]
  },
  {
   "cell_type": "code",
   "execution_count": 170,
   "id": "62fa2342-08bf-4986-bd1d-feffa7fe0cb0",
   "metadata": {},
   "outputs": [],
   "source": [
    "# notice here the arrays are sorted by ascending order"
   ]
  },
  {
   "cell_type": "code",
   "execution_count": 173,
   "id": "24dff8e1-6b4f-4f26-b66c-cad6f2544d8a",
   "metadata": {},
   "outputs": [
    {
     "name": "stdout",
     "output_type": "stream",
     "text": [
      "15\n"
     ]
    }
   ],
   "source": [
    "# Functions\n",
    "\n",
    "def myFun(n, m):\n",
    "    return(n*m)\n",
    "    \n",
    "print(myFun(3,5))"
   ]
  },
  {
   "cell_type": "code",
   "execution_count": 174,
   "id": "1002e2fd-b31a-44be-8daa-3fccd0e74d19",
   "metadata": {},
   "outputs": [
    {
     "name": "stdout",
     "output_type": "stream",
     "text": [
      "abc\n"
     ]
    }
   ],
   "source": [
    "# Nested/Inner functions have access to outer variables\n",
    "def outer(a,b):\n",
    "    c='c'\n",
    "\n",
    "    def inner():\n",
    "        return a+b+c\n",
    "        \n",
    "    return inner()\n",
    "\n",
    "print(outer('a','b'))"
   ]
  },
  {
   "cell_type": "code",
   "execution_count": 183,
   "id": "bf140c62-9967-49af-b592-ab29dff34bfe",
   "metadata": {},
   "outputs": [
    {
     "name": "stdout",
     "output_type": "stream",
     "text": [
      "here\n",
      "2\n",
      "9 9\n"
     ]
    }
   ],
   "source": [
    "# can modify objects but not reassign\n",
    "# unless using nonlocal keyword\n",
    "# try out different things here\n",
    "\n",
    "def double(arr, val):\n",
    "\n",
    "    def helper():\n",
    "        val = 2\n",
    "        print('here')\n",
    "        print(val)\n",
    "\n",
    "    helper()\n",
    "    print(arr, val)\n",
    "\n",
    "double(9,9)"
   ]
  },
  {
   "cell_type": "code",
   "execution_count": 177,
   "id": "b6887a0d-74f3-44ca-b653-12c2924e4355",
   "metadata": {},
   "outputs": [],
   "source": [
    "# Here val=2 did not work as outer scope is considered"
   ]
  },
  {
   "cell_type": "code",
   "execution_count": 178,
   "id": "007f3933-8520-45cb-9459-3306cf73f2e8",
   "metadata": {},
   "outputs": [
    {
     "name": "stdout",
     "output_type": "stream",
     "text": [
      "9 2\n"
     ]
    }
   ],
   "source": [
    "# can modify objects but not reassign\n",
    "# unless using nonlocal keyword\n",
    "\n",
    "def double(arr, val):\n",
    "\n",
    "    def helper():\n",
    "        nonlocal val\n",
    "        val = 2\n",
    "\n",
    "    helper()\n",
    "    print(arr, val)\n",
    "\n",
    "double(9,9)"
   ]
  },
  {
   "cell_type": "code",
   "execution_count": 184,
   "id": "ac46b070-abf4-48c9-8f72-df31941d839c",
   "metadata": {},
   "outputs": [],
   "source": [
    "# val=2 did work as nonlocal keyword is used"
   ]
  },
  {
   "cell_type": "code",
   "execution_count": 186,
   "id": "cbe91f17-4c8e-4788-b8d9-2c7e7aee6775",
   "metadata": {},
   "outputs": [],
   "source": [
    "# Classsss\n",
    "\n",
    "class MyClass:\n",
    "    #constructor\n",
    "    def __init__(self, nums):\n",
    "        self.nums = nums\n",
    "        self.size = len(nums)\n",
    "# SELF keyword\n",
    "    def getLen(self):\n",
    "        return self.size\n",
    " \n",
    "    def getDoubleLen(self):\n",
    "        return 2*self.size\n",
    "    "
   ]
  },
  {
   "cell_type": "code",
   "execution_count": 187,
   "id": "f13f4f3e-38e4-4a2f-bc24-2b9ceac9bc6d",
   "metadata": {},
   "outputs": [],
   "source": [
    "obj = MyClass([1,2,3,4])"
   ]
  },
  {
   "cell_type": "code",
   "execution_count": 188,
   "id": "b8feb6ef-32ef-42fe-adac-779b78439b53",
   "metadata": {},
   "outputs": [
    {
     "data": {
      "text/plain": [
       "4"
      ]
     },
     "execution_count": 188,
     "metadata": {},
     "output_type": "execute_result"
    }
   ],
   "source": [
    "obj.getLen()"
   ]
  },
  {
   "cell_type": "code",
   "execution_count": null,
   "id": "ea076d75-d5af-443b-a015-cdfe17bc8298",
   "metadata": {},
   "outputs": [],
   "source": []
  }
 ],
 "metadata": {
  "kernelspec": {
   "display_name": "Python 3 (ipykernel)",
   "language": "python",
   "name": "python3"
  },
  "language_info": {
   "codemirror_mode": {
    "name": "ipython",
    "version": 3
   },
   "file_extension": ".py",
   "mimetype": "text/x-python",
   "name": "python",
   "nbconvert_exporter": "python",
   "pygments_lexer": "ipython3",
   "version": "3.12.4"
  }
 },
 "nbformat": 4,
 "nbformat_minor": 5
}
